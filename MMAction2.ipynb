{
 "cells": [
  {
   "cell_type": "markdown",
   "metadata": {
    "id": "VcjSRFELVbNk"
   },
   "source": [
    "# MMAction2 Tutorial\n",
    "\n",
    "Welcome to MMAction2! This is the official colab tutorial for using MMAction2. In this tutorial, you will learn\n",
    "- Perform inference with a MMAction2 recognizer.\n",
    "- Train a new recognizer with a new dataset.\n",
    "- Perform spatio-temporal detection.\n",
    "\n",
    "Let's start!"
   ]
  },
  {
   "cell_type": "markdown",
   "metadata": {
    "id": "7LqHGkGEVqpm"
   },
   "source": [
    "## Install MMAction2"
   ]
  },
  {
   "cell_type": "code",
   "execution_count": 1,
   "metadata": {
    "colab": {
     "base_uri": "https://localhost:8080/"
    },
    "id": "5PAJ4ArzV5Ry",
    "outputId": "64c8adf9-f7bd-49c2-d207-314425946398"
   },
   "outputs": [
    {
     "name": "stdout",
     "output_type": "stream",
     "text": [
      "Looking in links: https://download.pytorch.org/whl/torch_stable.html\n",
      "Collecting torch==1.8.0+cu101\n",
      "  Downloading https://download.pytorch.org/whl/cu101/torch-1.8.0%2Bcu101-cp37-cp37m-linux_x86_64.whl (763.5 MB)\n",
      "\u001b[K     |████████████████████████████████| 763.5 MB 14 kB/s \n",
      "\u001b[?25hCollecting torchvision==0.9.0+cu101\n",
      "  Downloading https://download.pytorch.org/whl/cu101/torchvision-0.9.0%2Bcu101-cp37-cp37m-linux_x86_64.whl (17.3 MB)\n",
      "\u001b[K     |████████████████████████████████| 17.3 MB 998 kB/s \n",
      "\u001b[?25hCollecting torchtext==0.9.0\n",
      "  Downloading torchtext-0.9.0-cp37-cp37m-manylinux1_x86_64.whl (7.1 MB)\n",
      "\u001b[K     |████████████████████████████████| 7.1 MB 11.3 MB/s \n",
      "\u001b[?25hCollecting torchaudio==0.8.0\n",
      "  Downloading torchaudio-0.8.0-cp37-cp37m-manylinux1_x86_64.whl (1.9 MB)\n",
      "\u001b[K     |████████████████████████████████| 1.9 MB 54.8 MB/s \n",
      "\u001b[?25hRequirement already satisfied: typing-extensions in /usr/local/lib/python3.7/dist-packages (from torch==1.8.0+cu101) (3.10.0.2)\n",
      "Requirement already satisfied: numpy in /usr/local/lib/python3.7/dist-packages (from torch==1.8.0+cu101) (1.21.5)\n",
      "Requirement already satisfied: pillow>=4.1.1 in /usr/local/lib/python3.7/dist-packages (from torchvision==0.9.0+cu101) (7.1.2)\n",
      "Requirement already satisfied: tqdm in /usr/local/lib/python3.7/dist-packages (from torchtext==0.9.0) (4.63.0)\n",
      "Requirement already satisfied: requests in /usr/local/lib/python3.7/dist-packages (from torchtext==0.9.0) (2.23.0)\n",
      "Requirement already satisfied: idna<3,>=2.5 in /usr/local/lib/python3.7/dist-packages (from requests->torchtext==0.9.0) (2.10)\n",
      "Requirement already satisfied: chardet<4,>=3.0.2 in /usr/local/lib/python3.7/dist-packages (from requests->torchtext==0.9.0) (3.0.4)\n",
      "Requirement already satisfied: certifi>=2017.4.17 in /usr/local/lib/python3.7/dist-packages (from requests->torchtext==0.9.0) (2021.10.8)\n",
      "Requirement already satisfied: urllib3!=1.25.0,!=1.25.1,<1.26,>=1.21.1 in /usr/local/lib/python3.7/dist-packages (from requests->torchtext==0.9.0) (1.24.3)\n",
      "Installing collected packages: torch, torchvision, torchtext, torchaudio\n",
      "  Attempting uninstall: torch\n",
      "    Found existing installation: torch 1.10.0+cu111\n",
      "    Uninstalling torch-1.10.0+cu111:\n",
      "      Successfully uninstalled torch-1.10.0+cu111\n",
      "  Attempting uninstall: torchvision\n",
      "    Found existing installation: torchvision 0.11.1+cu111\n",
      "    Uninstalling torchvision-0.11.1+cu111:\n",
      "      Successfully uninstalled torchvision-0.11.1+cu111\n",
      "  Attempting uninstall: torchtext\n",
      "    Found existing installation: torchtext 0.11.0\n",
      "    Uninstalling torchtext-0.11.0:\n",
      "      Successfully uninstalled torchtext-0.11.0\n",
      "  Attempting uninstall: torchaudio\n",
      "    Found existing installation: torchaudio 0.10.0+cu111\n",
      "    Uninstalling torchaudio-0.10.0+cu111:\n",
      "      Successfully uninstalled torchaudio-0.10.0+cu111\n",
      "Successfully installed torch-1.8.0+cu101 torchaudio-0.8.0 torchtext-0.9.0 torchvision-0.9.0+cu101\n",
      "Looking in links: https://download.openmmlab.com/mmcv/dist/cu101/torch1.8.0/index.html\n",
      "Collecting mmcv-full\n",
      "  Downloading https://download.openmmlab.com/mmcv/dist/cu101/torch1.8.0/mmcv_full-1.4.6-cp37-cp37m-manylinux1_x86_64.whl (42.0 MB)\n",
      "\u001b[K     |████████████████████████████████| 42.0 MB 12.8 MB/s \n",
      "\u001b[?25hRequirement already satisfied: Pillow in /usr/local/lib/python3.7/dist-packages (from mmcv-full) (7.1.2)\n",
      "Requirement already satisfied: packaging in /usr/local/lib/python3.7/dist-packages (from mmcv-full) (21.3)\n",
      "Requirement already satisfied: numpy in /usr/local/lib/python3.7/dist-packages (from mmcv-full) (1.21.5)\n",
      "Collecting addict\n",
      "  Downloading addict-2.4.0-py3-none-any.whl (3.8 kB)\n",
      "Requirement already satisfied: pyyaml in /usr/local/lib/python3.7/dist-packages (from mmcv-full) (3.13)\n",
      "Collecting yapf\n",
      "  Downloading yapf-0.32.0-py2.py3-none-any.whl (190 kB)\n",
      "\u001b[K     |████████████████████████████████| 190 kB 11.9 MB/s \n",
      "\u001b[?25hRequirement already satisfied: opencv-python>=3 in /usr/local/lib/python3.7/dist-packages (from mmcv-full) (4.1.2.30)\n",
      "Requirement already satisfied: pyparsing!=3.0.5,>=2.0.2 in /usr/local/lib/python3.7/dist-packages (from packaging->mmcv-full) (3.0.7)\n",
      "Installing collected packages: yapf, addict, mmcv-full\n",
      "Successfully installed addict-2.4.0 mmcv-full-1.4.6 yapf-0.32.0\n",
      "Cloning into 'mmaction2'...\n",
      "remote: Enumerating objects: 15190, done.\u001b[K\n",
      "remote: Counting objects: 100% (19/19), done.\u001b[K\n",
      "remote: Compressing objects: 100% (19/19), done.\u001b[K\n",
      "remote: Total 15190 (delta 7), reused 0 (delta 0), pack-reused 15171\u001b[K\n",
      "Receiving objects: 100% (15190/15190), 57.12 MiB | 14.97 MiB/s, done.\n",
      "Resolving deltas: 100% (10810/10810), done.\n",
      "/content/mmaction2\n",
      "Obtaining file:///content/mmaction2\n",
      "Collecting decord>=0.4.1\n",
      "  Downloading decord-0.6.0-py3-none-manylinux2010_x86_64.whl (13.6 MB)\n",
      "\u001b[K     |████████████████████████████████| 13.6 MB 10.2 MB/s \n",
      "\u001b[?25hCollecting einops\n",
      "  Downloading einops-0.4.1-py3-none-any.whl (28 kB)\n",
      "Requirement already satisfied: matplotlib in /usr/local/lib/python3.7/dist-packages (from mmaction2==0.22.0) (3.2.2)\n",
      "Requirement already satisfied: numpy in /usr/local/lib/python3.7/dist-packages (from mmaction2==0.22.0) (1.21.5)\n",
      "Requirement already satisfied: opencv-contrib-python in /usr/local/lib/python3.7/dist-packages (from mmaction2==0.22.0) (4.1.2.30)\n",
      "Requirement already satisfied: Pillow in /usr/local/lib/python3.7/dist-packages (from mmaction2==0.22.0) (7.1.2)\n",
      "Requirement already satisfied: scipy in /usr/local/lib/python3.7/dist-packages (from mmaction2==0.22.0) (1.4.1)\n",
      "Requirement already satisfied: torch>=1.3 in /usr/local/lib/python3.7/dist-packages (from mmaction2==0.22.0) (1.8.0+cu101)\n",
      "Requirement already satisfied: typing-extensions in /usr/local/lib/python3.7/dist-packages (from torch>=1.3->mmaction2==0.22.0) (3.10.0.2)\n",
      "Requirement already satisfied: cycler>=0.10 in /usr/local/lib/python3.7/dist-packages (from matplotlib->mmaction2==0.22.0) (0.11.0)\n",
      "Requirement already satisfied: kiwisolver>=1.0.1 in /usr/local/lib/python3.7/dist-packages (from matplotlib->mmaction2==0.22.0) (1.3.2)\n",
      "Requirement already satisfied: pyparsing!=2.0.4,!=2.1.2,!=2.1.6,>=2.0.1 in /usr/local/lib/python3.7/dist-packages (from matplotlib->mmaction2==0.22.0) (3.0.7)\n",
      "Requirement already satisfied: python-dateutil>=2.1 in /usr/local/lib/python3.7/dist-packages (from matplotlib->mmaction2==0.22.0) (2.8.2)\n",
      "Requirement already satisfied: six>=1.5 in /usr/local/lib/python3.7/dist-packages (from python-dateutil>=2.1->matplotlib->mmaction2==0.22.0) (1.15.0)\n",
      "Installing collected packages: einops, decord, mmaction2\n",
      "  Running setup.py develop for mmaction2\n",
      "Successfully installed decord-0.6.0 einops-0.4.1 mmaction2-0.22.0\n",
      "Collecting av\n",
      "  Downloading av-9.0.0-cp37-cp37m-manylinux_2_17_x86_64.manylinux2014_x86_64.whl (36.6 MB)\n",
      "\u001b[K     |████████████████████████████████| 36.6 MB 278 kB/s \n",
      "\u001b[?25hRequirement already satisfied: imgaug in /usr/local/lib/python3.7/dist-packages (from -r requirements/optional.txt (line 2)) (0.2.9)\n",
      "Requirement already satisfied: librosa in /usr/local/lib/python3.7/dist-packages (from -r requirements/optional.txt (line 3)) (0.8.1)\n",
      "Requirement already satisfied: lmdb in /usr/local/lib/python3.7/dist-packages (from -r requirements/optional.txt (line 4)) (0.99)\n",
      "Requirement already satisfied: moviepy in /usr/local/lib/python3.7/dist-packages (from -r requirements/optional.txt (line 5)) (0.2.3.5)\n",
      "Collecting onnx\n",
      "  Downloading onnx-1.11.0-cp37-cp37m-manylinux_2_12_x86_64.manylinux2010_x86_64.whl (12.8 MB)\n",
      "\u001b[K     |████████████████████████████████| 12.8 MB 55.8 MB/s \n",
      "\u001b[?25hCollecting onnxruntime\n",
      "  Downloading onnxruntime-1.10.0-cp37-cp37m-manylinux_2_17_x86_64.manylinux2014_x86_64.whl (4.9 MB)\n",
      "\u001b[K     |████████████████████████████████| 4.9 MB 50.9 MB/s \n",
      "\u001b[?25hRequirement already satisfied: packaging in /usr/local/lib/python3.7/dist-packages (from -r requirements/optional.txt (line 8)) (21.3)\n",
      "Collecting pims\n",
      "  Downloading PIMS-0.5.tar.gz (85 kB)\n",
      "\u001b[K     |████████████████████████████████| 85 kB 5.4 MB/s \n",
      "\u001b[?25hCollecting PyTurboJPEG\n",
      "  Downloading PyTurboJPEG-1.6.6.tar.gz (11 kB)\n",
      "Collecting timm\n",
      "  Downloading timm-0.5.4-py3-none-any.whl (431 kB)\n",
      "\u001b[K     |████████████████████████████████| 431 kB 56.2 MB/s \n",
      "\u001b[?25hRequirement already satisfied: opencv-python in /usr/local/lib/python3.7/dist-packages (from imgaug->-r requirements/optional.txt (line 2)) (4.1.2.30)\n",
      "Requirement already satisfied: scikit-image>=0.11.0 in /usr/local/lib/python3.7/dist-packages (from imgaug->-r requirements/optional.txt (line 2)) (0.18.3)\n",
      "Requirement already satisfied: Pillow in /usr/local/lib/python3.7/dist-packages (from imgaug->-r requirements/optional.txt (line 2)) (7.1.2)\n",
      "Requirement already satisfied: numpy>=1.15.0 in /usr/local/lib/python3.7/dist-packages (from imgaug->-r requirements/optional.txt (line 2)) (1.21.5)\n",
      "Requirement already satisfied: scipy in /usr/local/lib/python3.7/dist-packages (from imgaug->-r requirements/optional.txt (line 2)) (1.4.1)\n",
      "Requirement already satisfied: Shapely in /usr/local/lib/python3.7/dist-packages (from imgaug->-r requirements/optional.txt (line 2)) (1.8.1.post1)\n",
      "Requirement already satisfied: matplotlib in /usr/local/lib/python3.7/dist-packages (from imgaug->-r requirements/optional.txt (line 2)) (3.2.2)\n",
      "Requirement already satisfied: six in /usr/local/lib/python3.7/dist-packages (from imgaug->-r requirements/optional.txt (line 2)) (1.15.0)\n",
      "Requirement already satisfied: imageio in /usr/local/lib/python3.7/dist-packages (from imgaug->-r requirements/optional.txt (line 2)) (2.4.1)\n",
      "Requirement already satisfied: tifffile>=2019.7.26 in /usr/local/lib/python3.7/dist-packages (from scikit-image>=0.11.0->imgaug->-r requirements/optional.txt (line 2)) (2021.11.2)\n",
      "Requirement already satisfied: networkx>=2.0 in /usr/local/lib/python3.7/dist-packages (from scikit-image>=0.11.0->imgaug->-r requirements/optional.txt (line 2)) (2.6.3)\n",
      "Requirement already satisfied: PyWavelets>=1.1.1 in /usr/local/lib/python3.7/dist-packages (from scikit-image>=0.11.0->imgaug->-r requirements/optional.txt (line 2)) (1.2.0)\n",
      "Requirement already satisfied: python-dateutil>=2.1 in /usr/local/lib/python3.7/dist-packages (from matplotlib->imgaug->-r requirements/optional.txt (line 2)) (2.8.2)\n",
      "Requirement already satisfied: kiwisolver>=1.0.1 in /usr/local/lib/python3.7/dist-packages (from matplotlib->imgaug->-r requirements/optional.txt (line 2)) (1.3.2)\n",
      "Requirement already satisfied: pyparsing!=2.0.4,!=2.1.2,!=2.1.6,>=2.0.1 in /usr/local/lib/python3.7/dist-packages (from matplotlib->imgaug->-r requirements/optional.txt (line 2)) (3.0.7)\n",
      "Requirement already satisfied: cycler>=0.10 in /usr/local/lib/python3.7/dist-packages (from matplotlib->imgaug->-r requirements/optional.txt (line 2)) (0.11.0)\n",
      "Requirement already satisfied: decorator>=3.0.0 in /usr/local/lib/python3.7/dist-packages (from librosa->-r requirements/optional.txt (line 3)) (4.4.2)\n",
      "Requirement already satisfied: scikit-learn!=0.19.0,>=0.14.0 in /usr/local/lib/python3.7/dist-packages (from librosa->-r requirements/optional.txt (line 3)) (1.0.2)\n",
      "Requirement already satisfied: pooch>=1.0 in /usr/local/lib/python3.7/dist-packages (from librosa->-r requirements/optional.txt (line 3)) (1.6.0)\n",
      "Requirement already satisfied: joblib>=0.14 in /usr/local/lib/python3.7/dist-packages (from librosa->-r requirements/optional.txt (line 3)) (1.1.0)\n",
      "Requirement already satisfied: audioread>=2.0.0 in /usr/local/lib/python3.7/dist-packages (from librosa->-r requirements/optional.txt (line 3)) (2.1.9)\n",
      "Requirement already satisfied: resampy>=0.2.2 in /usr/local/lib/python3.7/dist-packages (from librosa->-r requirements/optional.txt (line 3)) (0.2.2)\n",
      "Requirement already satisfied: soundfile>=0.10.2 in /usr/local/lib/python3.7/dist-packages (from librosa->-r requirements/optional.txt (line 3)) (0.10.3.post1)\n",
      "Requirement already satisfied: numba>=0.43.0 in /usr/local/lib/python3.7/dist-packages (from librosa->-r requirements/optional.txt (line 3)) (0.51.2)\n",
      "Requirement already satisfied: setuptools in /usr/local/lib/python3.7/dist-packages (from numba>=0.43.0->librosa->-r requirements/optional.txt (line 3)) (57.4.0)\n",
      "Requirement already satisfied: llvmlite<0.35,>=0.34.0.dev0 in /usr/local/lib/python3.7/dist-packages (from numba>=0.43.0->librosa->-r requirements/optional.txt (line 3)) (0.34.0)\n",
      "Requirement already satisfied: requests>=2.19.0 in /usr/local/lib/python3.7/dist-packages (from pooch>=1.0->librosa->-r requirements/optional.txt (line 3)) (2.23.0)\n",
      "Requirement already satisfied: appdirs>=1.3.0 in /usr/local/lib/python3.7/dist-packages (from pooch>=1.0->librosa->-r requirements/optional.txt (line 3)) (1.4.4)\n",
      "Requirement already satisfied: chardet<4,>=3.0.2 in /usr/local/lib/python3.7/dist-packages (from requests>=2.19.0->pooch>=1.0->librosa->-r requirements/optional.txt (line 3)) (3.0.4)\n",
      "Requirement already satisfied: certifi>=2017.4.17 in /usr/local/lib/python3.7/dist-packages (from requests>=2.19.0->pooch>=1.0->librosa->-r requirements/optional.txt (line 3)) (2021.10.8)\n",
      "Requirement already satisfied: urllib3!=1.25.0,!=1.25.1,<1.26,>=1.21.1 in /usr/local/lib/python3.7/dist-packages (from requests>=2.19.0->pooch>=1.0->librosa->-r requirements/optional.txt (line 3)) (1.24.3)\n",
      "Requirement already satisfied: idna<3,>=2.5 in /usr/local/lib/python3.7/dist-packages (from requests>=2.19.0->pooch>=1.0->librosa->-r requirements/optional.txt (line 3)) (2.10)\n",
      "Requirement already satisfied: threadpoolctl>=2.0.0 in /usr/local/lib/python3.7/dist-packages (from scikit-learn!=0.19.0,>=0.14.0->librosa->-r requirements/optional.txt (line 3)) (3.1.0)\n",
      "Requirement already satisfied: cffi>=1.0 in /usr/local/lib/python3.7/dist-packages (from soundfile>=0.10.2->librosa->-r requirements/optional.txt (line 3)) (1.15.0)\n",
      "Requirement already satisfied: pycparser in /usr/local/lib/python3.7/dist-packages (from cffi>=1.0->soundfile>=0.10.2->librosa->-r requirements/optional.txt (line 3)) (2.21)\n",
      "Requirement already satisfied: tqdm<5.0,>=4.11.2 in /usr/local/lib/python3.7/dist-packages (from moviepy->-r requirements/optional.txt (line 5)) (4.63.0)\n",
      "Requirement already satisfied: protobuf>=3.12.2 in /usr/local/lib/python3.7/dist-packages (from onnx->-r requirements/optional.txt (line 6)) (3.17.3)\n",
      "Requirement already satisfied: typing-extensions>=3.6.2.1 in /usr/local/lib/python3.7/dist-packages (from onnx->-r requirements/optional.txt (line 6)) (3.10.0.2)\n",
      "Requirement already satisfied: flatbuffers in /usr/local/lib/python3.7/dist-packages (from onnxruntime->-r requirements/optional.txt (line 7)) (2.0)\n",
      "Collecting slicerator>=0.9.8\n",
      "  Downloading slicerator-1.0.0-py3-none-any.whl (9.3 kB)\n",
      "Requirement already satisfied: torchvision in /usr/local/lib/python3.7/dist-packages (from timm->-r requirements/optional.txt (line 11)) (0.9.0+cu101)\n",
      "Requirement already satisfied: torch>=1.4 in /usr/local/lib/python3.7/dist-packages (from timm->-r requirements/optional.txt (line 11)) (1.8.0+cu101)\n",
      "Building wheels for collected packages: pims, PyTurboJPEG\n",
      "  Building wheel for pims (setup.py) ... \u001b[?25l\u001b[?25hdone\n",
      "  Created wheel for pims: filename=PIMS-0.5-py3-none-any.whl size=84325 sha256=53c9a8a59edb216035c8faff2e29f9fdf6372f91e56c17e18bef998a07e9792c\n",
      "  Stored in directory: /root/.cache/pip/wheels/75/02/a9/86571c38081ba4c1832eb95430b5d588dfa15a738e2a603737\n",
      "  Building wheel for PyTurboJPEG (setup.py) ... \u001b[?25l\u001b[?25hdone\n",
      "  Created wheel for PyTurboJPEG: filename=PyTurboJPEG-1.6.6-py3-none-any.whl size=12169 sha256=5cebd963cf9b377c73a0dec6dcdb9ca8181c02a0671c8da9dee8f7ed12cb78c7\n",
      "  Stored in directory: /root/.cache/pip/wheels/d4/ad/ad/eae0f574bbf7271d34d605ee01338bd4f2c132de91bff0f12f\n",
      "Successfully built pims PyTurboJPEG\n",
      "Installing collected packages: slicerator, timm, PyTurboJPEG, pims, onnxruntime, onnx, av\n",
      "Successfully installed PyTurboJPEG-1.6.6 av-9.0.0 onnx-1.11.0 onnxruntime-1.10.0 pims-0.5 slicerator-1.0.0 timm-0.5.4\n"
     ]
    }
   ],
   "source": [
    "# install dependencies: (use cu101 because colab has CUDA 10.1)\n",
    "!pip install -U torch==1.8.0+cu101 torchvision==0.9.0+cu101 torchtext==0.9.0 torchaudio==0.8.0 -f https://download.pytorch.org/whl/torch_stable.html\n",
    "\n",
    "# install mmcv-full thus we could use CUDA operators\n",
    "!pip install mmcv-full -f https://download.openmmlab.com/mmcv/dist/cu101/torch1.8.0/index.html\n",
    "\n",
    "# Install mmaction2\n",
    "!rm -rf mmaction2\n",
    "!git clone https://github.com/open-mmlab/mmaction2.git\n",
    "%cd mmaction2\n",
    "\n",
    "!pip install -e .\n",
    "\n",
    "# Install some optional requirements\n",
    "!pip install -r requirements/optional.txt"
   ]
  },
  {
   "cell_type": "code",
   "execution_count": 2,
   "metadata": {
    "colab": {
     "base_uri": "https://localhost:8080/"
    },
    "id": "VHpvL3l-ZPTT",
    "outputId": "798e8458-6292-4bfa-af85-9b01d4428122"
   },
   "outputs": [
    {
     "name": "stdout",
     "output_type": "stream",
     "text": [
      "1.8.0+cu101 True\n"
     ]
    }
   ],
   "source": [
    "# Check Pytorch installation\n",
    "import torch, torchvision\n",
    "print(torch.__version__, torch.cuda.is_available())"
   ]
  },
  {
   "cell_type": "code",
   "execution_count": 3,
   "metadata": {
    "colab": {
     "base_uri": "https://localhost:8080/"
    },
    "id": "IQk3eSEiZPTU",
    "outputId": "a90d1db4-736c-42b5-f0de-f0eea4620ed7"
   },
   "outputs": [
    {
     "name": "stdout",
     "output_type": "stream",
     "text": [
      "Looking in links: https://openmmlab.oss-accelerate.aliyuncs.com/mmcv/dist/index.html\n",
      "\u001b[31mERROR: Exception:\n",
      "Traceback (most recent call last):\n",
      "  File \"/usr/local/lib/python3.7/dist-packages/pip/_internal/cli/base_command.py\", line 180, in _main\n",
      "    status = self.run(options, args)\n",
      "  File \"/usr/local/lib/python3.7/dist-packages/pip/_internal/cli/req_command.py\", line 199, in wrapper\n",
      "    return func(self, options, args)\n",
      "  File \"/usr/local/lib/python3.7/dist-packages/pip/_internal/commands/install.py\", line 319, in run\n",
      "    reqs, check_supported_wheels=not options.target_dir\n",
      "  File \"/usr/local/lib/python3.7/dist-packages/pip/_internal/resolution/resolvelib/resolver.py\", line 128, in resolve\n",
      "    requirements, max_rounds=try_to_avoid_resolution_too_deep\n",
      "  File \"/usr/local/lib/python3.7/dist-packages/pip/_vendor/resolvelib/resolvers.py\", line 473, in resolve\n",
      "    state = resolution.resolve(requirements, max_rounds=max_rounds)\n",
      "  File \"/usr/local/lib/python3.7/dist-packages/pip/_vendor/resolvelib/resolvers.py\", line 341, in resolve\n",
      "    name, crit = self._merge_into_criterion(r, parent=None)\n",
      "  File \"/usr/local/lib/python3.7/dist-packages/pip/_vendor/resolvelib/resolvers.py\", line 172, in _merge_into_criterion\n",
      "    if not criterion.candidates:\n",
      "  File \"/usr/local/lib/python3.7/dist-packages/pip/_vendor/resolvelib/structs.py\", line 139, in __bool__\n",
      "    return bool(self._sequence)\n",
      "  File \"/usr/local/lib/python3.7/dist-packages/pip/_internal/resolution/resolvelib/found_candidates.py\", line 143, in __bool__\n",
      "    return any(self)\n",
      "  File \"/usr/local/lib/python3.7/dist-packages/pip/_internal/resolution/resolvelib/found_candidates.py\", line 129, in <genexpr>\n",
      "    return (c for c in iterator if id(c) not in self._incompatible_ids)\n",
      "  File \"/usr/local/lib/python3.7/dist-packages/pip/_internal/resolution/resolvelib/found_candidates.py\", line 33, in _iter_built\n",
      "    candidate = func()\n",
      "  File \"/usr/local/lib/python3.7/dist-packages/pip/_internal/resolution/resolvelib/factory.py\", line 205, in _make_candidate_from_link\n",
      "    version=version,\n",
      "  File \"/usr/local/lib/python3.7/dist-packages/pip/_internal/resolution/resolvelib/candidates.py\", line 294, in __init__\n",
      "    wheel_version = Version(wheel.version)\n",
      "  File \"/usr/local/lib/python3.7/dist-packages/pip/_vendor/packaging/version.py\", line 298, in __init__\n",
      "    raise InvalidVersion(\"Invalid version: '{0}'\".format(version))\n",
      "pip._vendor.packaging.version.InvalidVersion: Invalid version: 'latest+torch1.5.0+cu101'\u001b[0m\n"
     ]
    }
   ],
   "source": [
    "!pip install mmcv-full==latest+torch1.5.0+cu101 -f https://openmmlab.oss-accelerate.aliyuncs.com/mmcv/dist/index.html"
   ]
  },
  {
   "cell_type": "code",
   "execution_count": 4,
   "metadata": {
    "colab": {
     "base_uri": "https://localhost:8080/"
    },
    "id": "No_zZAFpWC-a",
    "outputId": "1c08895d-78b9-41c4-c9b1-9c6f5654b0a7"
   },
   "outputs": [
    {
     "name": "stdout",
     "output_type": "stream",
     "text": [
      "Requirement already satisfied: mmcv-full in /usr/local/lib/python3.7/dist-packages (1.4.6)\n",
      "Requirement already satisfied: addict in /usr/local/lib/python3.7/dist-packages (from mmcv-full) (2.4.0)\n",
      "Requirement already satisfied: packaging in /usr/local/lib/python3.7/dist-packages (from mmcv-full) (21.3)\n",
      "Requirement already satisfied: yapf in /usr/local/lib/python3.7/dist-packages (from mmcv-full) (0.32.0)\n",
      "Requirement already satisfied: pyyaml in /usr/local/lib/python3.7/dist-packages (from mmcv-full) (3.13)\n",
      "Requirement already satisfied: Pillow in /usr/local/lib/python3.7/dist-packages (from mmcv-full) (7.1.2)\n",
      "Requirement already satisfied: numpy in /usr/local/lib/python3.7/dist-packages (from mmcv-full) (1.21.5)\n",
      "Requirement already satisfied: opencv-python>=3 in /usr/local/lib/python3.7/dist-packages (from mmcv-full) (4.1.2.30)\n",
      "Requirement already satisfied: pyparsing!=3.0.5,>=2.0.2 in /usr/local/lib/python3.7/dist-packages (from packaging->mmcv-full) (3.0.7)\n",
      "0.22.0\n",
      "10.1\n",
      "GCC 7.3\n"
     ]
    }
   ],
   "source": [
    "!pip install mmcv-full\n",
    "# Check MMAction2 installation\n",
    "import mmaction\n",
    "print(mmaction.__version__)\n",
    "\n",
    "# Check MMCV installation\n",
    "from mmcv.ops import get_compiling_cuda_version, get_compiler_version\n",
    "print(get_compiling_cuda_version())\n",
    "print(get_compiler_version())"
   ]
  },
  {
   "cell_type": "markdown",
   "metadata": {
    "id": "pXf7oV5DWdab"
   },
   "source": [
    "## Perform inference with a MMAction2 recognizer\n",
    "MMAction2 already provides high level APIs to do inference and training."
   ]
  },
  {
   "cell_type": "code",
   "execution_count": 5,
   "metadata": {
    "colab": {
     "base_uri": "https://localhost:8080/"
    },
    "id": "0MyQI_RYZPTV",
    "outputId": "e0c36cb8-31db-4f5c-8de8-bfacba8e186d"
   },
   "outputs": [
    {
     "name": "stdout",
     "output_type": "stream",
     "text": [
      "/bin/bash: conda: command not found\n"
     ]
    }
   ],
   "source": [
    "!conda install -c menpo wget"
   ]
  },
  {
   "cell_type": "code",
   "execution_count": 6,
   "metadata": {
    "colab": {
     "base_uri": "https://localhost:8080/"
    },
    "id": "64CW6d_AaT-Q",
    "outputId": "ae59888a-d4a5-4a6e-c31c-94f7d033a075"
   },
   "outputs": [
    {
     "name": "stdout",
     "output_type": "stream",
     "text": [
      "--2022-03-08 12:02:50--  https://download.openmmlab.com/mmaction/recognition/tsn/tsn_r50_1x1x3_100e_kinetics400_rgb/tsn_r50_1x1x3_100e_kinetics400_rgb_20200614-e508be42.pth\n",
      "Resolving download.openmmlab.com (download.openmmlab.com)... 47.254.186.233\n",
      "Connecting to download.openmmlab.com (download.openmmlab.com)|47.254.186.233|:443... connected.\n",
      "HTTP request sent, awaiting response... 200 OK\n",
      "Length: 97579339 (93M) [application/octet-stream]\n",
      "Saving to: ‘checkpoints/tsn_r50_1x1x3_100e_kinetics400_rgb_20200614-e508be42.pth’\n",
      "\n",
      "checkpoints/tsn_r50 100%[===================>]  93.06M  10.3MB/s    in 9.2s    \n",
      "\n",
      "2022-03-08 12:03:00 (10.1 MB/s) - ‘checkpoints/tsn_r50_1x1x3_100e_kinetics400_rgb_20200614-e508be42.pth’ saved [97579339/97579339]\n",
      "\n"
     ]
    }
   ],
   "source": [
    "!mkdir checkpoints\n",
    "!wget -c https://download.openmmlab.com/mmaction/recognition/tsn/tsn_r50_1x1x3_100e_kinetics400_rgb/tsn_r50_1x1x3_100e_kinetics400_rgb_20200614-e508be42.pth \\\n",
    "      -O checkpoints/tsn_r50_1x1x3_100e_kinetics400_rgb_20200614-e508be42.pth"
   ]
  },
  {
   "cell_type": "code",
   "execution_count": 7,
   "metadata": {
    "colab": {
     "base_uri": "https://localhost:8080/",
     "height": 420
    },
    "id": "B9Oq7PJyZPTW",
    "outputId": "0737269a-8333-4ca0-a63c-ae22646aa734"
   },
   "outputs": [
    {
     "name": "stdout",
     "output_type": "stream",
     "text": [
      "Collecting mmcv\n",
      "  Downloading mmcv-1.4.6.tar.gz (438 kB)\n",
      "\u001b[?25l\r",
      "\u001b[K     |▊                               | 10 kB 27.0 MB/s eta 0:00:01\r",
      "\u001b[K     |█▌                              | 20 kB 33.4 MB/s eta 0:00:01\r",
      "\u001b[K     |██▎                             | 30 kB 25.3 MB/s eta 0:00:01\r",
      "\u001b[K     |███                             | 40 kB 13.4 MB/s eta 0:00:01\r",
      "\u001b[K     |███▊                            | 51 kB 12.7 MB/s eta 0:00:01\r",
      "\u001b[K     |████▌                           | 61 kB 14.8 MB/s eta 0:00:01\r",
      "\u001b[K     |█████▎                          | 71 kB 13.9 MB/s eta 0:00:01\r",
      "\u001b[K     |██████                          | 81 kB 11.7 MB/s eta 0:00:01\r",
      "\u001b[K     |██████▊                         | 92 kB 12.9 MB/s eta 0:00:01\r",
      "\u001b[K     |███████▌                        | 102 kB 13.6 MB/s eta 0:00:01\r",
      "\u001b[K     |████████▏                       | 112 kB 13.6 MB/s eta 0:00:01\r",
      "\u001b[K     |█████████                       | 122 kB 13.6 MB/s eta 0:00:01\r",
      "\u001b[K     |█████████▊                      | 133 kB 13.6 MB/s eta 0:00:01\r",
      "\u001b[K     |██████████▌                     | 143 kB 13.6 MB/s eta 0:00:01\r",
      "\u001b[K     |███████████▏                    | 153 kB 13.6 MB/s eta 0:00:01\r",
      "\u001b[K     |████████████                    | 163 kB 13.6 MB/s eta 0:00:01\r",
      "\u001b[K     |████████████▊                   | 174 kB 13.6 MB/s eta 0:00:01\r",
      "\u001b[K     |█████████████▍                  | 184 kB 13.6 MB/s eta 0:00:01\r",
      "\u001b[K     |██████████████▏                 | 194 kB 13.6 MB/s eta 0:00:01\r",
      "\u001b[K     |███████████████                 | 204 kB 13.6 MB/s eta 0:00:01\r",
      "\u001b[K     |███████████████▊                | 215 kB 13.6 MB/s eta 0:00:01\r",
      "\u001b[K     |████████████████▍               | 225 kB 13.6 MB/s eta 0:00:01\r",
      "\u001b[K     |█████████████████▏              | 235 kB 13.6 MB/s eta 0:00:01\r",
      "\u001b[K     |██████████████████              | 245 kB 13.6 MB/s eta 0:00:01\r",
      "\u001b[K     |██████████████████▋             | 256 kB 13.6 MB/s eta 0:00:01\r",
      "\u001b[K     |███████████████████▍            | 266 kB 13.6 MB/s eta 0:00:01\r",
      "\u001b[K     |████████████████████▏           | 276 kB 13.6 MB/s eta 0:00:01\r",
      "\u001b[K     |█████████████████████           | 286 kB 13.6 MB/s eta 0:00:01\r",
      "\u001b[K     |█████████████████████▋          | 296 kB 13.6 MB/s eta 0:00:01\r",
      "\u001b[K     |██████████████████████▍         | 307 kB 13.6 MB/s eta 0:00:01\r",
      "\u001b[K     |███████████████████████▏        | 317 kB 13.6 MB/s eta 0:00:01\r",
      "\u001b[K     |███████████████████████▉        | 327 kB 13.6 MB/s eta 0:00:01\r",
      "\u001b[K     |████████████████████████▋       | 337 kB 13.6 MB/s eta 0:00:01\r",
      "\u001b[K     |█████████████████████████▍      | 348 kB 13.6 MB/s eta 0:00:01\r",
      "\u001b[K     |██████████████████████████▏     | 358 kB 13.6 MB/s eta 0:00:01\r",
      "\u001b[K     |██████████████████████████▉     | 368 kB 13.6 MB/s eta 0:00:01\r",
      "\u001b[K     |███████████████████████████▋    | 378 kB 13.6 MB/s eta 0:00:01\r",
      "\u001b[K     |████████████████████████████▍   | 389 kB 13.6 MB/s eta 0:00:01\r",
      "\u001b[K     |█████████████████████████████▏  | 399 kB 13.6 MB/s eta 0:00:01\r",
      "\u001b[K     |█████████████████████████████▉  | 409 kB 13.6 MB/s eta 0:00:01\r",
      "\u001b[K     |██████████████████████████████▋ | 419 kB 13.6 MB/s eta 0:00:01\r",
      "\u001b[K     |███████████████████████████████▍| 430 kB 13.6 MB/s eta 0:00:01\r",
      "\u001b[K     |████████████████████████████████| 438 kB 13.6 MB/s \n",
      "\u001b[?25hRequirement already satisfied: addict in /usr/local/lib/python3.7/dist-packages (from mmcv) (2.4.0)\n",
      "Requirement already satisfied: numpy in /usr/local/lib/python3.7/dist-packages (from mmcv) (1.21.5)\n",
      "Requirement already satisfied: packaging in /usr/local/lib/python3.7/dist-packages (from mmcv) (21.3)\n",
      "Requirement already satisfied: Pillow in /usr/local/lib/python3.7/dist-packages (from mmcv) (7.1.2)\n",
      "Requirement already satisfied: pyyaml in /usr/local/lib/python3.7/dist-packages (from mmcv) (3.13)\n",
      "Requirement already satisfied: yapf in /usr/local/lib/python3.7/dist-packages (from mmcv) (0.32.0)\n",
      "Requirement already satisfied: pyparsing!=3.0.5,>=2.0.2 in /usr/local/lib/python3.7/dist-packages (from packaging->mmcv) (3.0.7)\n",
      "Building wheels for collected packages: mmcv\n",
      "  Building wheel for mmcv (setup.py) ... \u001b[?25l\u001b[?25hdone\n",
      "  Created wheel for mmcv: filename=mmcv-1.4.6-py2.py3-none-any.whl size=656045 sha256=755a4e112728e8e488adeb83de3c03f1a06c94db11ca06d66155098bcfa2006e\n",
      "  Stored in directory: /root/.cache/pip/wheels/4b/dc/28/f5fdb35b7e1a5f50de1a95a49e5f661e4ffb10461d35974240\n",
      "Successfully built mmcv\n",
      "Installing collected packages: mmcv\n",
      "Successfully installed mmcv-1.4.6\n"
     ]
    },
    {
     "data": {
      "application/vnd.colab-display-data+json": {
       "pip_warning": {
        "packages": [
         "mmcv"
        ]
       }
      }
     },
     "metadata": {},
     "output_type": "display_data"
    }
   ],
   "source": [
    "!pip install mmcv"
   ]
  },
  {
   "cell_type": "code",
   "execution_count": 8,
   "metadata": {
    "id": "M9HkVBwpZPTW"
   },
   "outputs": [],
   "source": [
    "from mmaction.apis import inference_recognizer, init_recognizer"
   ]
  },
  {
   "cell_type": "code",
   "execution_count": 10,
   "metadata": {
    "colab": {
     "base_uri": "https://localhost:8080/"
    },
    "id": "HNZB7NoSabzj",
    "outputId": "6905b187-8462-489d-b2f4-2f6a29917a5e"
   },
   "outputs": [
    {
     "name": "stdout",
     "output_type": "stream",
     "text": [
      "load checkpoint from local path: checkpoints/tsn_r50_1x1x3_100e_kinetics400_rgb_20200614-e508be42.pth\n"
     ]
    }
   ],
   "source": [
    "# Choose to use a config and initialize the recognizer\n",
    "config = 'configs/recognition/tsn/tsn_r50_video_inference_1x1x3_100e_kinetics400_rgb.py'\n",
    "# Setup a checkpoint file to load\n",
    "checkpoint = 'checkpoints/tsn_r50_1x1x3_100e_kinetics400_rgb_20200614-e508be42.pth'\n",
    "# Initialize the recognizer\n",
    "model = init_recognizer(config, checkpoint, device='cuda:0')"
   ]
  },
  {
   "cell_type": "code",
   "execution_count": 11,
   "metadata": {
    "id": "rEMsBnpHapAn"
   },
   "outputs": [],
   "source": [
    "# Use the recognizer to do inference\n",
    "video = 'demo/demo.mp4'\n",
    "label = 'tools/data/kinetics/label_map_k400.txt'\n",
    "results = inference_recognizer(model, video)\n",
    "\n",
    "labels = open(label).readlines()\n",
    "labels = [x.strip() for x in labels]\n",
    "results = [(labels[k[0]], k[1]) for k in results]"
   ]
  },
  {
   "cell_type": "code",
   "execution_count": 12,
   "metadata": {
    "colab": {
     "base_uri": "https://localhost:8080/"
    },
    "id": "NIyJXqfWathq",
    "outputId": "e025952f-5d81-4cd6-859a-b2fd92ff3493"
   },
   "outputs": [
    {
     "name": "stdout",
     "output_type": "stream",
     "text": [
      "arm wrestling:  29.616438\n",
      "rock scissors paper:  10.754841\n",
      "shaking hands:  9.908401\n",
      "clapping:  9.189913\n",
      "massaging feet:  8.305307\n"
     ]
    }
   ],
   "source": [
    "# Let's show the results\n",
    "for result in results:\n",
    "    print(f'{result[0]}: ', result[1])"
   ]
  },
  {
   "cell_type": "markdown",
   "metadata": {
    "id": "QuZG8kZ2fJ5d"
   },
   "source": [
    "## Train a recognizer on customized dataset\n",
    "\n",
    "To train a new recognizer, there are usually three things to do:\n",
    "1. Support a new dataset\n",
    "2. Modify the config\n",
    "3. Train a new recognizer"
   ]
  },
  {
   "cell_type": "markdown",
   "metadata": {
    "id": "neEFyxChfgiJ"
   },
   "source": [
    "### Support a new dataset\n",
    "\n",
    "In this tutorial, we gives an example to convert the data into the format of existing datasets. Other methods and more advanced usages can be found in the [doc](/docs/tutorials/new_dataset.md)\n",
    "\n",
    "Firstly, let's download a tiny dataset obtained from [Kinetics-400](https://deepmind.com/research/open-source/open-source-datasets/kinetics/). We select 30 videos with their labels as train dataset and 10 videos with their labels as test dataset."
   ]
  },
  {
   "cell_type": "code",
   "execution_count": 13,
   "metadata": {
    "colab": {
     "base_uri": "https://localhost:8080/"
    },
    "id": "gjsUj9JzgUlJ",
    "outputId": "b6ac1d8a-4099-4c92-8728-0a7cf67290c2"
   },
   "outputs": [
    {
     "name": "stdout",
     "output_type": "stream",
     "text": [
      "rm: cannot remove 'kinetics400_tiny.zip*': No such file or directory\n",
      "--2022-03-08 12:03:23--  https://download.openmmlab.com/mmaction/kinetics400_tiny.zip\n",
      "Resolving download.openmmlab.com (download.openmmlab.com)... 47.254.186.233\n",
      "Connecting to download.openmmlab.com (download.openmmlab.com)|47.254.186.233|:443... connected.\n",
      "HTTP request sent, awaiting response... 200 OK\n",
      "Length: 18308682 (17M) [application/zip]\n",
      "Saving to: ‘kinetics400_tiny.zip’\n",
      "\n",
      "kinetics400_tiny.zi 100%[===================>]  17.46M  7.61MB/s    in 2.3s    \n",
      "\n",
      "2022-03-08 12:03:26 (7.61 MB/s) - ‘kinetics400_tiny.zip’ saved [18308682/18308682]\n",
      "\n"
     ]
    }
   ],
   "source": [
    "# download, decompress the data\n",
    "!rm kinetics400_tiny.zip*\n",
    "!rm -rf kinetics400_tiny\n",
    "!wget https://download.openmmlab.com/mmaction/kinetics400_tiny.zip\n",
    "!unzip kinetics400_tiny.zip > /dev/null"
   ]
  },
  {
   "cell_type": "code",
   "execution_count": 14,
   "metadata": {
    "colab": {
     "base_uri": "https://localhost:8080/"
    },
    "id": "AbZ-o7V6hNw4",
    "outputId": "97137667-3a4e-4753-aee4-c575a5aff8cb"
   },
   "outputs": [
    {
     "name": "stdout",
     "output_type": "stream",
     "text": [
      "Reading package lists...\n",
      "Building dependency tree...\n",
      "Reading state information...\n",
      "The following package was automatically installed and is no longer required:\n",
      "  libnvidia-common-470\n",
      "Use 'apt autoremove' to remove it.\n",
      "The following NEW packages will be installed:\n",
      "  tree\n",
      "0 upgraded, 1 newly installed, 0 to remove and 39 not upgraded.\n",
      "Need to get 40.7 kB of archives.\n",
      "After this operation, 105 kB of additional disk space will be used.\n",
      "Get:1 http://archive.ubuntu.com/ubuntu bionic/universe amd64 tree amd64 1.7.0-5 [40.7 kB]\n",
      "Fetched 40.7 kB in 0s (1,141 kB/s)\n",
      "Selecting previously unselected package tree.\n",
      "(Reading database ... 155320 files and directories currently installed.)\n",
      "Preparing to unpack .../tree_1.7.0-5_amd64.deb ...\n",
      "Unpacking tree (1.7.0-5) ...\n",
      "Setting up tree (1.7.0-5) ...\n",
      "Processing triggers for man-db (2.8.3-2ubuntu0.1) ...\n",
      "kinetics400_tiny\n",
      "├── kinetics_tiny_train_video.txt\n",
      "├── kinetics_tiny_val_video.txt\n",
      "├── train\n",
      "│   ├── 27_CSXByd3s.mp4\n",
      "│   ├── 34XczvTaRiI.mp4\n",
      "│   ├── A-wiliK50Zw.mp4\n",
      "│   ├── D32_1gwq35E.mp4\n",
      "│   ├── D92m0HsHjcQ.mp4\n",
      "│   ├── DbX8mPslRXg.mp4\n",
      "│   ├── FMlSTTpN3VY.mp4\n",
      "│   ├── h10B9SVE-nk.mp4\n",
      "│   ├── h2YqqUhnR34.mp4\n",
      "│   ├── iRuyZSKhHRg.mp4\n",
      "│   ├── IyfILH9lBRo.mp4\n",
      "│   ├── kFC3KY2bOP8.mp4\n",
      "│   ├── LvcFDgCAXQs.mp4\n",
      "│   ├── O46YA8tI530.mp4\n",
      "│   ├── oMrZaozOvdQ.mp4\n",
      "│   ├── oXy-e_P_cAI.mp4\n",
      "│   ├── P5M-hAts7MQ.mp4\n",
      "│   ├── phDqGd0NKoo.mp4\n",
      "│   ├── PnOe3GZRVX8.mp4\n",
      "│   ├── R8HXQkdgKWA.mp4\n",
      "│   ├── RqnKtCEoEcA.mp4\n",
      "│   ├── soEcZZsBmDs.mp4\n",
      "│   ├── TkkZPZHbAKA.mp4\n",
      "│   ├── T_TMNGzVrDk.mp4\n",
      "│   ├── WaS0qwP46Us.mp4\n",
      "│   ├── Wh_YPQdH1Zg.mp4\n",
      "│   ├── WWP5HZJsg-o.mp4\n",
      "│   ├── xGY2dP0YUjA.mp4\n",
      "│   ├── yLC9CtWU5ws.mp4\n",
      "│   └── ZQV4U2KQ370.mp4\n",
      "└── val\n",
      "    ├── 0pVGiAU6XEA.mp4\n",
      "    ├── AQrbRSnRt8M.mp4\n",
      "    ├── b6Q_b7vgc7Q.mp4\n",
      "    ├── ddvJ6-faICE.mp4\n",
      "    ├── IcLztCtvhb8.mp4\n",
      "    ├── ik4BW3-SCts.mp4\n",
      "    ├── jqRrH30V0k4.mp4\n",
      "    ├── SU_x2LQqSLs.mp4\n",
      "    ├── u4Rm6srmIS8.mp4\n",
      "    └── y5Iu7XkTqV0.mp4\n",
      "\n",
      "2 directories, 42 files\n"
     ]
    }
   ],
   "source": [
    "# Check the directory structure of the tiny data\n",
    "\n",
    "# Install tree first\n",
    "!apt-get -q install tree\n",
    "!tree kinetics400_tiny"
   ]
  },
  {
   "cell_type": "code",
   "execution_count": 15,
   "metadata": {
    "colab": {
     "base_uri": "https://localhost:8080/"
    },
    "id": "fTdi6dI0hY3g",
    "outputId": "278cddca-ccfc-4c9a-e71a-6250deb0d811"
   },
   "outputs": [
    {
     "name": "stdout",
     "output_type": "stream",
     "text": [
      "D32_1gwq35E.mp4 0\n",
      "iRuyZSKhHRg.mp4 1\n",
      "oXy-e_P_cAI.mp4 0\n",
      "34XczvTaRiI.mp4 1\n",
      "h2YqqUhnR34.mp4 0\n",
      "O46YA8tI530.mp4 0\n",
      "kFC3KY2bOP8.mp4 1\n",
      "WWP5HZJsg-o.mp4 1\n",
      "phDqGd0NKoo.mp4 1\n",
      "yLC9CtWU5ws.mp4 0\n",
      "27_CSXByd3s.mp4 1\n",
      "IyfILH9lBRo.mp4 1\n",
      "T_TMNGzVrDk.mp4 1\n",
      "TkkZPZHbAKA.mp4 0\n",
      "PnOe3GZRVX8.mp4 1\n",
      "soEcZZsBmDs.mp4 1\n",
      "FMlSTTpN3VY.mp4 1\n",
      "WaS0qwP46Us.mp4 0\n",
      "A-wiliK50Zw.mp4 1\n",
      "oMrZaozOvdQ.mp4 1\n",
      "ZQV4U2KQ370.mp4 0\n",
      "DbX8mPslRXg.mp4 1\n",
      "h10B9SVE-nk.mp4 1\n",
      "P5M-hAts7MQ.mp4 0\n",
      "R8HXQkdgKWA.mp4 0\n",
      "D92m0HsHjcQ.mp4 0\n",
      "RqnKtCEoEcA.mp4 0\n",
      "LvcFDgCAXQs.mp4 0\n",
      "xGY2dP0YUjA.mp4 0\n",
      "Wh_YPQdH1Zg.mp4 0\n"
     ]
    }
   ],
   "source": [
    "# After downloading the data, we need to check the annotation format\n",
    "!cat kinetics400_tiny/kinetics_tiny_train_video.txt"
   ]
  },
  {
   "cell_type": "markdown",
   "metadata": {
    "id": "0bq0mxmEi29H"
   },
   "source": [
    "According to the format defined in [`VideoDataset`](./datasets/video_dataset.py), each line indicates a sample video with the filepath and label, which are split with a whitespace."
   ]
  },
  {
   "cell_type": "markdown",
   "metadata": {
    "id": "Ht_DGJA9jQar"
   },
   "source": [
    "### Modify the config\n",
    "\n",
    "In the next step, we need to modify the config for the training.\n",
    "To accelerate the process, we finetune a recognizer using a pre-trained recognizer."
   ]
  },
  {
   "cell_type": "code",
   "execution_count": 16,
   "metadata": {
    "id": "LjCcmCKOjktc"
   },
   "outputs": [],
   "source": [
    "from mmcv import Config\n",
    "cfg = Config.fromfile('./configs/recognition/tsn/tsn_r50_video_1x1x8_100e_kinetics400_rgb.py')"
   ]
  },
  {
   "cell_type": "markdown",
   "metadata": {
    "id": "tc8YhFFGjp3e"
   },
   "source": [
    "Given a config that trains a TSN model on kinetics400-full dataset, we need to modify some values to use it for training TSN on Kinetics400-tiny dataset.\n"
   ]
  },
  {
   "cell_type": "code",
   "execution_count": 17,
   "metadata": {
    "colab": {
     "base_uri": "https://localhost:8080/"
    },
    "id": "tlhu9byjjt-K",
    "outputId": "15b4fd4d-429d-42e6-a175-743fe4185148"
   },
   "outputs": [
    {
     "name": "stdout",
     "output_type": "stream",
     "text": [
      "Config:\n",
      "model = dict(\n",
      "    type='Recognizer2D',\n",
      "    backbone=dict(\n",
      "        type='ResNet',\n",
      "        pretrained='torchvision://resnet50',\n",
      "        depth=50,\n",
      "        norm_eval=False),\n",
      "    cls_head=dict(\n",
      "        type='TSNHead',\n",
      "        num_classes=2,\n",
      "        in_channels=2048,\n",
      "        spatial_type='avg',\n",
      "        consensus=dict(type='AvgConsensus', dim=1),\n",
      "        dropout_ratio=0.4,\n",
      "        init_std=0.01),\n",
      "    train_cfg=None,\n",
      "    test_cfg=dict(average_clips=None))\n",
      "optimizer = dict(type='SGD', lr=7.8125e-05, momentum=0.9, weight_decay=0.0001)\n",
      "optimizer_config = dict(grad_clip=dict(max_norm=40, norm_type=2))\n",
      "lr_config = dict(policy='step', step=[40, 80])\n",
      "total_epochs = 10\n",
      "checkpoint_config = dict(interval=5)\n",
      "log_config = dict(interval=5, hooks=[dict(type='TextLoggerHook')])\n",
      "dist_params = dict(backend='nccl')\n",
      "log_level = 'INFO'\n",
      "load_from = './checkpoints/tsn_r50_1x1x3_100e_kinetics400_rgb_20200614-e508be42.pth'\n",
      "resume_from = None\n",
      "workflow = [('train', 1)]\n",
      "opencv_num_threads = 0\n",
      "mp_start_method = 'fork'\n",
      "dataset_type = 'VideoDataset'\n",
      "data_root = 'kinetics400_tiny/train/'\n",
      "data_root_val = 'kinetics400_tiny/val/'\n",
      "ann_file_train = 'kinetics400_tiny/kinetics_tiny_train_video.txt'\n",
      "ann_file_val = 'kinetics400_tiny/kinetics_tiny_val_video.txt'\n",
      "ann_file_test = 'kinetics400_tiny/kinetics_tiny_val_video.txt'\n",
      "img_norm_cfg = dict(\n",
      "    mean=[123.675, 116.28, 103.53], std=[58.395, 57.12, 57.375], to_bgr=False)\n",
      "train_pipeline = [\n",
      "    dict(type='DecordInit'),\n",
      "    dict(type='SampleFrames', clip_len=1, frame_interval=1, num_clips=8),\n",
      "    dict(type='DecordDecode'),\n",
      "    dict(\n",
      "        type='MultiScaleCrop',\n",
      "        input_size=224,\n",
      "        scales=(1, 0.875, 0.75, 0.66),\n",
      "        random_crop=False,\n",
      "        max_wh_scale_gap=1),\n",
      "    dict(type='Resize', scale=(224, 224), keep_ratio=False),\n",
      "    dict(type='Flip', flip_ratio=0.5),\n",
      "    dict(\n",
      "        type='Normalize',\n",
      "        mean=[123.675, 116.28, 103.53],\n",
      "        std=[58.395, 57.12, 57.375],\n",
      "        to_bgr=False),\n",
      "    dict(type='FormatShape', input_format='NCHW'),\n",
      "    dict(type='Collect', keys=['imgs', 'label'], meta_keys=[]),\n",
      "    dict(type='ToTensor', keys=['imgs', 'label'])\n",
      "]\n",
      "val_pipeline = [\n",
      "    dict(type='DecordInit'),\n",
      "    dict(\n",
      "        type='SampleFrames',\n",
      "        clip_len=1,\n",
      "        frame_interval=1,\n",
      "        num_clips=8,\n",
      "        test_mode=True),\n",
      "    dict(type='DecordDecode'),\n",
      "    dict(type='Resize', scale=(-1, 256)),\n",
      "    dict(type='CenterCrop', crop_size=224),\n",
      "    dict(\n",
      "        type='Normalize',\n",
      "        mean=[123.675, 116.28, 103.53],\n",
      "        std=[58.395, 57.12, 57.375],\n",
      "        to_bgr=False),\n",
      "    dict(type='FormatShape', input_format='NCHW'),\n",
      "    dict(type='Collect', keys=['imgs', 'label'], meta_keys=[]),\n",
      "    dict(type='ToTensor', keys=['imgs'])\n",
      "]\n",
      "test_pipeline = [\n",
      "    dict(type='DecordInit'),\n",
      "    dict(\n",
      "        type='SampleFrames',\n",
      "        clip_len=1,\n",
      "        frame_interval=1,\n",
      "        num_clips=25,\n",
      "        test_mode=True),\n",
      "    dict(type='DecordDecode'),\n",
      "    dict(type='Resize', scale=(-1, 256)),\n",
      "    dict(type='TenCrop', crop_size=224),\n",
      "    dict(\n",
      "        type='Normalize',\n",
      "        mean=[123.675, 116.28, 103.53],\n",
      "        std=[58.395, 57.12, 57.375],\n",
      "        to_bgr=False),\n",
      "    dict(type='FormatShape', input_format='NCHW'),\n",
      "    dict(type='Collect', keys=['imgs', 'label'], meta_keys=[]),\n",
      "    dict(type='ToTensor', keys=['imgs'])\n",
      "]\n",
      "data = dict(\n",
      "    videos_per_gpu=2,\n",
      "    workers_per_gpu=2,\n",
      "    test_dataloader=dict(videos_per_gpu=1),\n",
      "    train=dict(\n",
      "        type='VideoDataset',\n",
      "        ann_file='kinetics400_tiny/kinetics_tiny_train_video.txt',\n",
      "        data_prefix='kinetics400_tiny/train/',\n",
      "        pipeline=[\n",
      "            dict(type='DecordInit'),\n",
      "            dict(\n",
      "                type='SampleFrames', clip_len=1, frame_interval=1,\n",
      "                num_clips=8),\n",
      "            dict(type='DecordDecode'),\n",
      "            dict(\n",
      "                type='MultiScaleCrop',\n",
      "                input_size=224,\n",
      "                scales=(1, 0.875, 0.75, 0.66),\n",
      "                random_crop=False,\n",
      "                max_wh_scale_gap=1),\n",
      "            dict(type='Resize', scale=(224, 224), keep_ratio=False),\n",
      "            dict(type='Flip', flip_ratio=0.5),\n",
      "            dict(\n",
      "                type='Normalize',\n",
      "                mean=[123.675, 116.28, 103.53],\n",
      "                std=[58.395, 57.12, 57.375],\n",
      "                to_bgr=False),\n",
      "            dict(type='FormatShape', input_format='NCHW'),\n",
      "            dict(type='Collect', keys=['imgs', 'label'], meta_keys=[]),\n",
      "            dict(type='ToTensor', keys=['imgs', 'label'])\n",
      "        ]),\n",
      "    val=dict(\n",
      "        type='VideoDataset',\n",
      "        ann_file='kinetics400_tiny/kinetics_tiny_val_video.txt',\n",
      "        data_prefix='kinetics400_tiny/val/',\n",
      "        pipeline=[\n",
      "            dict(type='DecordInit'),\n",
      "            dict(\n",
      "                type='SampleFrames',\n",
      "                clip_len=1,\n",
      "                frame_interval=1,\n",
      "                num_clips=8,\n",
      "                test_mode=True),\n",
      "            dict(type='DecordDecode'),\n",
      "            dict(type='Resize', scale=(-1, 256)),\n",
      "            dict(type='CenterCrop', crop_size=224),\n",
      "            dict(\n",
      "                type='Normalize',\n",
      "                mean=[123.675, 116.28, 103.53],\n",
      "                std=[58.395, 57.12, 57.375],\n",
      "                to_bgr=False),\n",
      "            dict(type='FormatShape', input_format='NCHW'),\n",
      "            dict(type='Collect', keys=['imgs', 'label'], meta_keys=[]),\n",
      "            dict(type='ToTensor', keys=['imgs'])\n",
      "        ]),\n",
      "    test=dict(\n",
      "        type='VideoDataset',\n",
      "        ann_file='kinetics400_tiny/kinetics_tiny_val_video.txt',\n",
      "        data_prefix='kinetics400_tiny/val/',\n",
      "        pipeline=[\n",
      "            dict(type='DecordInit'),\n",
      "            dict(\n",
      "                type='SampleFrames',\n",
      "                clip_len=1,\n",
      "                frame_interval=1,\n",
      "                num_clips=25,\n",
      "                test_mode=True),\n",
      "            dict(type='DecordDecode'),\n",
      "            dict(type='Resize', scale=(-1, 256)),\n",
      "            dict(type='TenCrop', crop_size=224),\n",
      "            dict(\n",
      "                type='Normalize',\n",
      "                mean=[123.675, 116.28, 103.53],\n",
      "                std=[58.395, 57.12, 57.375],\n",
      "                to_bgr=False),\n",
      "            dict(type='FormatShape', input_format='NCHW'),\n",
      "            dict(type='Collect', keys=['imgs', 'label'], meta_keys=[]),\n",
      "            dict(type='ToTensor', keys=['imgs'])\n",
      "        ]))\n",
      "evaluation = dict(\n",
      "    interval=5,\n",
      "    metrics=['top_k_accuracy', 'mean_class_accuracy'],\n",
      "    save_best='auto')\n",
      "work_dir = './tutorial_exps'\n",
      "omnisource = False\n",
      "seed = 0\n",
      "gpu_ids = range(0, 1)\n",
      "\n"
     ]
    }
   ],
   "source": [
    "from mmcv.runner import set_random_seed\n",
    "\n",
    "# Modify dataset type and path\n",
    "cfg.dataset_type = 'VideoDataset'\n",
    "cfg.data_root = 'kinetics400_tiny/train/'\n",
    "cfg.data_root_val = 'kinetics400_tiny/val/'\n",
    "cfg.ann_file_train = 'kinetics400_tiny/kinetics_tiny_train_video.txt'\n",
    "cfg.ann_file_val = 'kinetics400_tiny/kinetics_tiny_val_video.txt'\n",
    "cfg.ann_file_test = 'kinetics400_tiny/kinetics_tiny_val_video.txt'\n",
    "\n",
    "cfg.data.test.type = 'VideoDataset'\n",
    "cfg.data.test.ann_file = 'kinetics400_tiny/kinetics_tiny_val_video.txt'\n",
    "cfg.data.test.data_prefix = 'kinetics400_tiny/val/'\n",
    "\n",
    "cfg.data.train.type = 'VideoDataset'\n",
    "cfg.data.train.ann_file = 'kinetics400_tiny/kinetics_tiny_train_video.txt'\n",
    "cfg.data.train.data_prefix = 'kinetics400_tiny/train/'\n",
    "\n",
    "cfg.data.val.type = 'VideoDataset'\n",
    "cfg.data.val.ann_file = 'kinetics400_tiny/kinetics_tiny_val_video.txt'\n",
    "cfg.data.val.data_prefix = 'kinetics400_tiny/val/'\n",
    "\n",
    "# The flag is used to determine whether it is omnisource training\n",
    "cfg.setdefault('omnisource', False)\n",
    "# Modify num classes of the model in cls_head\n",
    "cfg.model.cls_head.num_classes = 2\n",
    "# We can use the pre-trained TSN model\n",
    "cfg.load_from = './checkpoints/tsn_r50_1x1x3_100e_kinetics400_rgb_20200614-e508be42.pth'\n",
    "\n",
    "# Set up working dir to save files and logs.\n",
    "cfg.work_dir = './tutorial_exps'\n",
    "\n",
    "# The original learning rate (LR) is set for 8-GPU training.\n",
    "# We divide it by 8 since we only use one GPU.\n",
    "cfg.data.videos_per_gpu = cfg.data.videos_per_gpu // 16\n",
    "cfg.optimizer.lr = cfg.optimizer.lr / 8 / 16\n",
    "cfg.total_epochs = 10\n",
    "\n",
    "# We can set the checkpoint saving interval to reduce the storage cost\n",
    "cfg.checkpoint_config.interval = 5\n",
    "# We can set the log print interval to reduce the the times of printing log\n",
    "cfg.log_config.interval = 5\n",
    "\n",
    "# Set seed thus the results are more reproducible\n",
    "cfg.seed = 0\n",
    "set_random_seed(0, deterministic=False)\n",
    "cfg.gpu_ids = range(1)\n",
    "\n",
    "# Save the best\n",
    "cfg.evaluation.save_best='auto'\n",
    "\n",
    "\n",
    "# We can initialize the logger for training and have a look\n",
    "# at the final config used for training\n",
    "print(f'Config:\\n{cfg.pretty_text}')\n"
   ]
  },
  {
   "cell_type": "markdown",
   "metadata": {
    "id": "tES-qnZ3k38Z"
   },
   "source": [
    "### Train a new recognizer\n",
    "\n",
    "Finally, lets initialize the dataset and recognizer, then train a new recognizer!"
   ]
  },
  {
   "cell_type": "code",
   "execution_count": 18,
   "metadata": {
    "colab": {
     "base_uri": "https://localhost:8080/",
     "height": 1000,
     "referenced_widgets": [
      "4c400150591c4f708131250859dac6d5",
      "e0a8d1771b51440288b565ca57d10a1a",
      "942cb1e6ee9c435fbae03b01ec67dfac",
      "d45c4f2572ce43848347003051177f7b",
      "5db805eed55d4eb68243c8167c8fbcdb",
      "6a8136329940435f9db410d80b5998e2",
      "f59139e723e14427a069cae8055a2c0f",
      "e46f549fef8443b99dfbdfd6038c4702",
      "ed380c6f5ba64b3ea7cc13faad322f3f",
      "e1ab74fab5e44cabb85c8574f0d75dc1",
      "0a0aee9be16d4f04b0bf7a85e4021acd"
     ]
    },
    "id": "dDBWkdDRk6oz",
    "outputId": "bf2f9c64-30c0-4493-b669-d8ce2134280d"
   },
   "outputs": [
    {
     "name": "stdout",
     "output_type": "stream",
     "text": [
      "load checkpoint from torchvision path: torchvision://resnet50\n"
     ]
    },
    {
     "name": "stderr",
     "output_type": "stream",
     "text": [
      "Downloading: \"https://download.pytorch.org/models/resnet50-19c8e357.pth\" to /root/.cache/torch/hub/checkpoints/resnet50-19c8e357.pth\n"
     ]
    },
    {
     "data": {
      "application/vnd.jupyter.widget-view+json": {
       "model_id": "4c400150591c4f708131250859dac6d5",
       "version_major": 2,
       "version_minor": 0
      },
      "text/plain": [
       "  0%|          | 0.00/97.8M [00:00<?, ?B/s]"
      ]
     },
     "metadata": {},
     "output_type": "display_data"
    },
    {
     "name": "stderr",
     "output_type": "stream",
     "text": [
      "2022-03-08 12:03:34,479 - mmaction - INFO - These parameters in pretrained checkpoint are not loaded: {'fc.weight', 'fc.bias'}\n",
      "2022-03-08 12:03:34,537 - mmaction - INFO - load checkpoint from local path: ./checkpoints/tsn_r50_1x1x3_100e_kinetics400_rgb_20200614-e508be42.pth\n",
      "2022-03-08 12:03:34,662 - mmaction - WARNING - The model and loaded state dict do not match exactly\n",
      "\n",
      "size mismatch for cls_head.fc_cls.weight: copying a param with shape torch.Size([400, 2048]) from checkpoint, the shape in current model is torch.Size([2, 2048]).\n",
      "size mismatch for cls_head.fc_cls.bias: copying a param with shape torch.Size([400]) from checkpoint, the shape in current model is torch.Size([2]).\n",
      "2022-03-08 12:03:34,668 - mmaction - INFO - Start running, host: root@ab7706e46b64, work_dir: /content/mmaction2/tutorial_exps\n",
      "2022-03-08 12:03:34,669 - mmaction - INFO - Hooks will be executed in the following order:\n",
      "before_run:\n",
      "(VERY_HIGH   ) StepLrUpdaterHook                  \n",
      "(NORMAL      ) CheckpointHook                     \n",
      "(NORMAL      ) EvalHook                           \n",
      "(VERY_LOW    ) TextLoggerHook                     \n",
      " -------------------- \n",
      "before_train_epoch:\n",
      "(VERY_HIGH   ) StepLrUpdaterHook                  \n",
      "(NORMAL      ) EvalHook                           \n",
      "(LOW         ) IterTimerHook                      \n",
      "(VERY_LOW    ) TextLoggerHook                     \n",
      " -------------------- \n",
      "before_train_iter:\n",
      "(VERY_HIGH   ) StepLrUpdaterHook                  \n",
      "(NORMAL      ) EvalHook                           \n",
      "(LOW         ) IterTimerHook                      \n",
      " -------------------- \n",
      "after_train_iter:\n",
      "(ABOVE_NORMAL) OptimizerHook                      \n",
      "(NORMAL      ) CheckpointHook                     \n",
      "(NORMAL      ) EvalHook                           \n",
      "(LOW         ) IterTimerHook                      \n",
      "(VERY_LOW    ) TextLoggerHook                     \n",
      " -------------------- \n",
      "after_train_epoch:\n",
      "(NORMAL      ) CheckpointHook                     \n",
      "(NORMAL      ) EvalHook                           \n",
      "(VERY_LOW    ) TextLoggerHook                     \n",
      " -------------------- \n",
      "before_val_epoch:\n",
      "(LOW         ) IterTimerHook                      \n",
      "(VERY_LOW    ) TextLoggerHook                     \n",
      " -------------------- \n",
      "before_val_iter:\n",
      "(LOW         ) IterTimerHook                      \n",
      " -------------------- \n",
      "after_val_iter:\n",
      "(LOW         ) IterTimerHook                      \n",
      " -------------------- \n",
      "after_val_epoch:\n",
      "(VERY_LOW    ) TextLoggerHook                     \n",
      " -------------------- \n",
      "after_run:\n",
      "(VERY_LOW    ) TextLoggerHook                     \n",
      " -------------------- \n",
      "2022-03-08 12:03:34,673 - mmaction - INFO - workflow: [('train', 1)], max: 10 epochs\n",
      "2022-03-08 12:03:34,680 - mmaction - INFO - Checkpoints will be saved to /content/mmaction2/tutorial_exps by HardDiskBackend.\n",
      "/usr/local/lib/python3.7/dist-packages/mmcv/runner/hooks/evaluation.py:222: UserWarning: runner.meta is None. Creating an empty one.\n",
      "  warnings.warn('runner.meta is None. Creating an empty one.')\n",
      "2022-03-08 12:03:39,068 - mmaction - INFO - Epoch [1][5/15]\tlr: 7.813e-05, eta: 0:02:07, time: 0.876, data_time: 0.687, memory: 2918, top1_acc: 0.3000, top5_acc: 1.0000, loss_cls: 0.7680, loss: 0.7680, grad_norm: 15.0010\n",
      "2022-03-08 12:03:40,361 - mmaction - INFO - Epoch [1][10/15]\tlr: 7.813e-05, eta: 0:01:19, time: 0.259, data_time: 0.085, memory: 2918, top1_acc: 0.7000, top5_acc: 1.0000, loss_cls: 0.6445, loss: 0.6445, grad_norm: 10.5502\n",
      "2022-03-08 12:03:41,408 - mmaction - INFO - Epoch [1][15/15]\tlr: 7.813e-05, eta: 0:01:00, time: 0.209, data_time: 0.035, memory: 2918, top1_acc: 0.3000, top5_acc: 1.0000, loss_cls: 0.7475, loss: 0.7475, grad_norm: 10.7377\n",
      "2022-03-08 12:03:45,350 - mmaction - INFO - Epoch [2][5/15]\tlr: 7.813e-05, eta: 0:01:08, time: 0.771, data_time: 0.591, memory: 2918, top1_acc: 0.8000, top5_acc: 1.0000, loss_cls: 0.6394, loss: 0.6394, grad_norm: 11.3585\n",
      "2022-03-08 12:03:46,970 - mmaction - INFO - Epoch [2][10/15]\tlr: 7.813e-05, eta: 0:01:00, time: 0.324, data_time: 0.150, memory: 2918, top1_acc: 0.4000, top5_acc: 1.0000, loss_cls: 0.7204, loss: 0.7204, grad_norm: 12.5561\n",
      "2022-03-08 12:03:48,070 - mmaction - INFO - Epoch [2][15/15]\tlr: 7.813e-05, eta: 0:00:53, time: 0.220, data_time: 0.057, memory: 2918, top1_acc: 0.6000, top5_acc: 1.0000, loss_cls: 0.6788, loss: 0.6788, grad_norm: 10.8609\n",
      "2022-03-08 12:03:52,016 - mmaction - INFO - Epoch [3][5/15]\tlr: 7.813e-05, eta: 0:00:56, time: 0.773, data_time: 0.580, memory: 2918, top1_acc: 0.4000, top5_acc: 1.0000, loss_cls: 0.7109, loss: 0.7109, grad_norm: 11.1768\n",
      "2022-03-08 12:03:53,331 - mmaction - INFO - Epoch [3][10/15]\tlr: 7.813e-05, eta: 0:00:50, time: 0.263, data_time: 0.088, memory: 2918, top1_acc: 0.5000, top5_acc: 1.0000, loss_cls: 0.6488, loss: 0.6488, grad_norm: 11.8582\n",
      "2022-03-08 12:03:54,553 - mmaction - INFO - Epoch [3][15/15]\tlr: 7.813e-05, eta: 0:00:45, time: 0.244, data_time: 0.078, memory: 2918, top1_acc: 0.6000, top5_acc: 1.0000, loss_cls: 0.6876, loss: 0.6876, grad_norm: 10.1664\n",
      "2022-03-08 12:03:58,744 - mmaction - INFO - Epoch [4][5/15]\tlr: 7.813e-05, eta: 0:00:47, time: 0.823, data_time: 0.632, memory: 2918, top1_acc: 0.4000, top5_acc: 1.0000, loss_cls: 0.6793, loss: 0.6793, grad_norm: 11.9439\n",
      "2022-03-08 12:03:59,990 - mmaction - INFO - Epoch [4][10/15]\tlr: 7.813e-05, eta: 0:00:43, time: 0.249, data_time: 0.064, memory: 2918, top1_acc: 0.4000, top5_acc: 1.0000, loss_cls: 0.6940, loss: 0.6940, grad_norm: 12.0799\n",
      "2022-03-08 12:04:01,545 - mmaction - INFO - Epoch [4][15/15]\tlr: 7.813e-05, eta: 0:00:39, time: 0.311, data_time: 0.143, memory: 2918, top1_acc: 0.6000, top5_acc: 1.0000, loss_cls: 0.6703, loss: 0.6703, grad_norm: 11.1415\n",
      "2022-03-08 12:04:05,336 - mmaction - INFO - Epoch [5][5/15]\tlr: 7.813e-05, eta: 0:00:39, time: 0.742, data_time: 0.551, memory: 2918, top1_acc: 0.4000, top5_acc: 1.0000, loss_cls: 0.6801, loss: 0.6801, grad_norm: 12.2092\n",
      "2022-03-08 12:04:06,797 - mmaction - INFO - Epoch [5][10/15]\tlr: 7.813e-05, eta: 0:00:36, time: 0.292, data_time: 0.122, memory: 2918, top1_acc: 0.8000, top5_acc: 1.0000, loss_cls: 0.6364, loss: 0.6364, grad_norm: 12.2117\n",
      "2022-03-08 12:04:08,232 - mmaction - INFO - Epoch [5][15/15]\tlr: 7.813e-05, eta: 0:00:33, time: 0.287, data_time: 0.116, memory: 2918, top1_acc: 0.7000, top5_acc: 1.0000, loss_cls: 0.6584, loss: 0.6584, grad_norm: 9.9329\n",
      "2022-03-08 12:04:08,322 - mmaction - INFO - Saving checkpoint at 5 epochs\n"
     ]
    },
    {
     "name": "stdout",
     "output_type": "stream",
     "text": [
      "[>>>>>>>>>>>>>>>>>>>>>>>>>>>>>>>>>] 10/10, 5.2 task/s, elapsed: 2s, ETA:     0s"
     ]
    },
    {
     "name": "stderr",
     "output_type": "stream",
     "text": [
      "2022-03-08 12:04:11,228 - mmaction - INFO - Evaluating top_k_accuracy ...\n",
      "2022-03-08 12:04:11,233 - mmaction - INFO - \n",
      "top1_acc\t0.8000\n",
      "top5_acc\t1.0000\n",
      "2022-03-08 12:04:11,235 - mmaction - INFO - Evaluating mean_class_accuracy ...\n",
      "2022-03-08 12:04:11,238 - mmaction - INFO - \n",
      "mean_acc\t0.8000\n",
      "2022-03-08 12:04:12,127 - mmaction - INFO - Now best checkpoint is saved as best_top1_acc_epoch_5.pth.\n",
      "2022-03-08 12:04:12,128 - mmaction - INFO - Best top1_acc is 0.8000 at 5 epoch.\n",
      "2022-03-08 12:04:12,133 - mmaction - INFO - Epoch(val) [5][5]\ttop1_acc: 0.8000, top5_acc: 1.0000, mean_class_accuracy: 0.8000\n",
      "2022-03-08 12:04:15,874 - mmaction - INFO - Epoch [6][5/15]\tlr: 7.813e-05, eta: 0:00:32, time: 0.747, data_time: 0.553, memory: 2918, top1_acc: 0.7000, top5_acc: 1.0000, loss_cls: 0.6097, loss: 0.6097, grad_norm: 11.2928\n",
      "2022-03-08 12:04:17,440 - mmaction - INFO - Epoch [6][10/15]\tlr: 7.813e-05, eta: 0:00:29, time: 0.313, data_time: 0.137, memory: 2918, top1_acc: 0.7000, top5_acc: 1.0000, loss_cls: 0.6975, loss: 0.6975, grad_norm: 11.4907\n",
      "2022-03-08 12:04:18,660 - mmaction - INFO - Epoch [6][15/15]\tlr: 7.813e-05, eta: 0:00:26, time: 0.244, data_time: 0.073, memory: 2918, top1_acc: 0.5000, top5_acc: 1.0000, loss_cls: 0.6874, loss: 0.6874, grad_norm: 11.9829\n",
      "2022-03-08 12:04:22,479 - mmaction - INFO - Epoch [7][5/15]\tlr: 7.813e-05, eta: 0:00:25, time: 0.745, data_time: 0.553, memory: 2918, top1_acc: 0.8000, top5_acc: 1.0000, loss_cls: 0.6576, loss: 0.6576, grad_norm: 12.6763\n",
      "2022-03-08 12:04:23,823 - mmaction - INFO - Epoch [7][10/15]\tlr: 7.813e-05, eta: 0:00:22, time: 0.269, data_time: 0.090, memory: 2918, top1_acc: 0.8000, top5_acc: 1.0000, loss_cls: 0.6165, loss: 0.6165, grad_norm: 10.3899\n",
      "2022-03-08 12:04:25,162 - mmaction - INFO - Epoch [7][15/15]\tlr: 7.813e-05, eta: 0:00:19, time: 0.268, data_time: 0.097, memory: 2918, top1_acc: 0.6000, top5_acc: 1.0000, loss_cls: 0.6522, loss: 0.6522, grad_norm: 10.8647\n",
      "2022-03-08 12:04:29,175 - mmaction - INFO - Epoch [8][5/15]\tlr: 7.813e-05, eta: 0:00:18, time: 0.786, data_time: 0.600, memory: 2918, top1_acc: 0.7000, top5_acc: 1.0000, loss_cls: 0.6324, loss: 0.6324, grad_norm: 11.3812\n",
      "2022-03-08 12:04:30,674 - mmaction - INFO - Epoch [8][10/15]\tlr: 7.813e-05, eta: 0:00:15, time: 0.300, data_time: 0.111, memory: 2918, top1_acc: 0.6000, top5_acc: 1.0000, loss_cls: 0.6785, loss: 0.6785, grad_norm: 11.2373\n",
      "2022-03-08 12:04:32,082 - mmaction - INFO - Epoch [8][15/15]\tlr: 7.813e-05, eta: 0:00:13, time: 0.281, data_time: 0.114, memory: 2918, top1_acc: 0.8000, top5_acc: 1.0000, loss_cls: 0.6147, loss: 0.6147, grad_norm: 11.3284\n",
      "2022-03-08 12:04:36,203 - mmaction - INFO - Epoch [9][5/15]\tlr: 7.813e-05, eta: 0:00:11, time: 0.807, data_time: 0.620, memory: 2918, top1_acc: 0.7000, top5_acc: 1.0000, loss_cls: 0.6464, loss: 0.6464, grad_norm: 11.8276\n",
      "2022-03-08 12:04:37,623 - mmaction - INFO - Epoch [9][10/15]\tlr: 7.813e-05, eta: 0:00:08, time: 0.284, data_time: 0.110, memory: 2918, top1_acc: 0.5000, top5_acc: 1.0000, loss_cls: 0.6793, loss: 0.6793, grad_norm: 12.9746\n",
      "2022-03-08 12:04:38,740 - mmaction - INFO - Epoch [9][15/15]\tlr: 7.813e-05, eta: 0:00:06, time: 0.224, data_time: 0.057, memory: 2918, top1_acc: 0.9000, top5_acc: 1.0000, loss_cls: 0.5369, loss: 0.5369, grad_norm: 8.5655\n",
      "2022-03-08 12:04:42,660 - mmaction - INFO - Epoch [10][5/15]\tlr: 7.813e-05, eta: 0:00:04, time: 0.765, data_time: 0.569, memory: 2918, top1_acc: 0.9000, top5_acc: 1.0000, loss_cls: 0.5640, loss: 0.5640, grad_norm: 10.0141\n",
      "2022-03-08 12:04:43,971 - mmaction - INFO - Epoch [10][10/15]\tlr: 7.813e-05, eta: 0:00:02, time: 0.261, data_time: 0.081, memory: 2918, top1_acc: 0.8000, top5_acc: 1.0000, loss_cls: 0.6393, loss: 0.6393, grad_norm: 10.8662\n",
      "2022-03-08 12:04:45,274 - mmaction - INFO - Epoch [10][15/15]\tlr: 7.813e-05, eta: 0:00:00, time: 0.262, data_time: 0.093, memory: 2918, top1_acc: 0.8000, top5_acc: 1.0000, loss_cls: 0.5819, loss: 0.5819, grad_norm: 10.8035\n",
      "2022-03-08 12:04:45,359 - mmaction - INFO - Saving checkpoint at 10 epochs\n"
     ]
    },
    {
     "name": "stdout",
     "output_type": "stream",
     "text": [
      "[>>>>>>>>>>>>>>>>>>>>>>>>>>>>>>>>>] 10/10, 5.2 task/s, elapsed: 2s, ETA:     0s"
     ]
    },
    {
     "name": "stderr",
     "output_type": "stream",
     "text": [
      "2022-03-08 12:04:48,264 - mmaction - INFO - Evaluating top_k_accuracy ...\n",
      "2022-03-08 12:04:48,265 - mmaction - INFO - \n",
      "top1_acc\t0.8000\n",
      "top5_acc\t1.0000\n",
      "2022-03-08 12:04:48,269 - mmaction - INFO - Evaluating mean_class_accuracy ...\n",
      "2022-03-08 12:04:48,275 - mmaction - INFO - \n",
      "mean_acc\t0.8000\n",
      "2022-03-08 12:04:48,276 - mmaction - INFO - Epoch(val) [10][5]\ttop1_acc: 0.8000, top5_acc: 1.0000, mean_class_accuracy: 0.8000\n"
     ]
    }
   ],
   "source": [
    "import os.path as osp\n",
    "\n",
    "from mmaction.datasets import build_dataset\n",
    "from mmaction.models import build_model\n",
    "from mmaction.apis import train_model\n",
    "\n",
    "import mmcv\n",
    "\n",
    "# Build the dataset\n",
    "datasets = [build_dataset(cfg.data.train)]\n",
    "\n",
    "# Build the recognizer\n",
    "model = build_model(cfg.model, train_cfg=cfg.get('train_cfg'), test_cfg=cfg.get('test_cfg'))\n",
    "\n",
    "# Create work_dir\n",
    "mmcv.mkdir_or_exist(osp.abspath(cfg.work_dir))\n",
    "train_model(model, datasets, cfg, distributed=False, validate=True)"
   ]
  },
  {
   "cell_type": "markdown",
   "metadata": {
    "id": "zdSd7oTLlxIf"
   },
   "source": [
    "### Understand the log\n",
    "From the log, we can have a basic understanding the training process and know how well the recognizer is trained.\n",
    "\n",
    "Firstly, the ResNet-50 backbone pre-trained on ImageNet is loaded, this is a common practice since training from scratch is more cost. The log shows that all the weights of the ResNet-50 backbone are loaded except the `fc.bias` and `fc.weight`.\n",
    "\n",
    "Second, since the dataset we are using is small, we loaded a TSN model and finetune it for action recognition.\n",
    "The original TSN is trained on original Kinetics-400 dataset which contains 400 classes but Kinetics-400 Tiny dataset only have 2 classes. Therefore, the last FC layer of the pre-trained TSN for classification has different weight shape and is not used.\n",
    "\n",
    "Third, after training, the recognizer is evaluated by the default evaluation. The results show that the recognizer achieves 100% top1 accuracy and 100% top5 accuracy on the val dataset,\n",
    " \n",
    "Not bad!"
   ]
  },
  {
   "cell_type": "markdown",
   "metadata": {
    "id": "ryVoSfZVmogw"
   },
   "source": [
    "## Test the trained recognizer\n",
    "\n",
    "After finetuning the recognizer, let's check the prediction results!"
   ]
  },
  {
   "cell_type": "code",
   "execution_count": 19,
   "metadata": {
    "colab": {
     "base_uri": "https://localhost:8080/"
    },
    "id": "eyY3hCMwyTct",
    "outputId": "043e9b35-503e-443f-ec43-cb451a8f4e0f"
   },
   "outputs": [
    {
     "name": "stdout",
     "output_type": "stream",
     "text": [
      "[>>>>>>>>>>>>>>>>>>>>>>>>>>>>>>>>>] 10/10, 1.1 task/s, elapsed: 9s, ETA:     0s\n",
      "Evaluating top_k_accuracy ...\n",
      "\n",
      "top1_acc\t0.8000\n",
      "top5_acc\t1.0000\n",
      "\n",
      "Evaluating mean_class_accuracy ...\n",
      "\n",
      "mean_acc\t0.8000\n",
      "top1_acc: 0.8000\n",
      "top5_acc: 1.0000\n",
      "mean_class_accuracy: 0.8000\n"
     ]
    },
    {
     "name": "stderr",
     "output_type": "stream",
     "text": [
      "/content/mmaction2/mmaction/datasets/base.py:167: UserWarning: Option arguments for metrics has been changed to `metric_options`, See 'https://github.com/open-mmlab/mmaction2/pull/286' for more details\n",
      "  'Option arguments for metrics has been changed to '\n"
     ]
    }
   ],
   "source": [
    "from mmaction.apis import single_gpu_test\n",
    "from mmaction.datasets import build_dataloader\n",
    "from mmcv.parallel import MMDataParallel\n",
    "\n",
    "# Build a test dataloader\n",
    "dataset = build_dataset(cfg.data.test, dict(test_mode=True))\n",
    "data_loader = build_dataloader(\n",
    "        dataset,\n",
    "        videos_per_gpu=1,\n",
    "        workers_per_gpu=cfg.data.workers_per_gpu,\n",
    "        dist=False,\n",
    "        shuffle=False)\n",
    "model = MMDataParallel(model, device_ids=[0])\n",
    "outputs = single_gpu_test(model, data_loader)\n",
    "\n",
    "eval_config = cfg.evaluation\n",
    "eval_config.pop('interval')\n",
    "eval_res = dataset.evaluate(outputs, **eval_config)\n",
    "for name, val in eval_res.items():\n",
    "    print(f'{name}: {val:.04f}')"
   ]
  },
  {
   "cell_type": "markdown",
   "metadata": {
    "id": "jZ4t44nWmZDM"
   },
   "source": [
    "## Perform Spatio-Temporal Detection\n",
    "Here we first install MMDetection."
   ]
  },
  {
   "cell_type": "code",
   "execution_count": 41,
   "metadata": {
    "colab": {
     "base_uri": "https://localhost:8080/"
    },
    "id": "w1p0_g76nHOQ",
    "outputId": "fdd7985c-f8f7-4b57-867a-b95ef9d49320"
   },
   "outputs": [
    {
     "name": "stdout",
     "output_type": "stream",
     "text": [
      "/content\n",
      "fatal: destination path 'mmdetection' already exists and is not an empty directory.\n",
      "/content/mmdetection\n",
      "Obtaining file:///content/mmdetection\n",
      "Requirement already satisfied: matplotlib in /usr/local/lib/python3.7/dist-packages (from mmdet==2.22.0) (3.2.2)\n",
      "Requirement already satisfied: numpy in /usr/local/lib/python3.7/dist-packages (from mmdet==2.22.0) (1.21.5)\n",
      "Requirement already satisfied: pycocotools in /usr/local/lib/python3.7/dist-packages (from mmdet==2.22.0) (2.0.4)\n",
      "Requirement already satisfied: six in /usr/local/lib/python3.7/dist-packages (from mmdet==2.22.0) (1.15.0)\n",
      "Requirement already satisfied: terminaltables in /usr/local/lib/python3.7/dist-packages (from mmdet==2.22.0) (3.1.10)\n",
      "Requirement already satisfied: python-dateutil>=2.1 in /usr/local/lib/python3.7/dist-packages (from matplotlib->mmdet==2.22.0) (2.8.2)\n",
      "Requirement already satisfied: pyparsing!=2.0.4,!=2.1.2,!=2.1.6,>=2.0.1 in /usr/local/lib/python3.7/dist-packages (from matplotlib->mmdet==2.22.0) (3.0.7)\n",
      "Requirement already satisfied: cycler>=0.10 in /usr/local/lib/python3.7/dist-packages (from matplotlib->mmdet==2.22.0) (0.11.0)\n",
      "Requirement already satisfied: kiwisolver>=1.0.1 in /usr/local/lib/python3.7/dist-packages (from matplotlib->mmdet==2.22.0) (1.3.2)\n",
      "Installing collected packages: mmdet\n",
      "  Attempting uninstall: mmdet\n",
      "    Found existing installation: mmdet 2.22.0\n",
      "    Can't uninstall 'mmdet'. No files were found to uninstall.\n",
      "  Running setup.py develop for mmdet\n",
      "Successfully installed mmdet-2.22.0\n",
      "/content/mmaction2\n"
     ]
    }
   ],
   "source": [
    "# Git clone mmdetection repo\n",
    "%cd ..\n",
    "!git clone https://github.com/open-mmlab/mmdetection.git\n",
    "%cd mmdetection\n",
    "\n",
    "# install mmdet\n",
    "!pip install -e .\n",
    "%cd ../mmaction2"
   ]
  },
  {
   "cell_type": "markdown",
   "metadata": {
    "id": "vlOQsH8OnVKn"
   },
   "source": [
    "Download a video to `demo` directory in MMAction2."
   ]
  },
  {
   "cell_type": "code",
   "execution_count": 47,
   "metadata": {
    "id": "QaW3jg5Enish"
   },
   "outputs": [],
   "source": [
    "#!wget https://download.openmmlab.com/mmaction/dataset/sample/1j20qq1JyX4.mp4 -O demo/noViolence.mp4"
   ]
  },
  {
   "cell_type": "markdown",
   "metadata": {
    "id": "LYGxdu8Vnoah"
   },
   "source": [
    "Run spatio-temporal demo."
   ]
  },
  {
   "cell_type": "code",
   "execution_count": 48,
   "metadata": {
    "colab": {
     "base_uri": "https://localhost:8080/"
    },
    "id": "LPLiaHaYnrb7",
    "outputId": "4fa786f1-37cf-401f-c6eb-3f4307996115"
   },
   "outputs": [
    {
     "name": "stdout",
     "output_type": "stream",
     "text": [
      "load checkpoint from http path: http://download.openmmlab.com/mmdetection/v2.0/faster_rcnn/faster_rcnn_r50_fpn_2x_coco/faster_rcnn_r50_fpn_2x_coco_bbox_mAP-0.384_20200504_210434-a5d8aa15.pth\n",
      "Performing Human Detection for each frame\n",
      "[>>] 7/7, 6.3 task/s, elapsed: 1s, ETA:     0sload checkpoint from http path: https://download.openmmlab.com/mmaction/detection/ava/slowonly_omnisource_pretrained_r101_8x8x1_20e_ava_rgb/slowonly_omnisource_pretrained_r101_8x8x1_20e_ava_rgb_20201217-16378594.pth\n",
      "Performing SpatioTemporal Action Detection for each clip\n",
      "[>>] 7/7, 4.9 task/s, elapsed: 1s, ETA:     0sPerforming visualization\n",
      "[MoviePy] >>>> Building video demo/stdet_demo.mp4\n",
      "[MoviePy] Writing video demo/stdet_demo.mp4\n",
      "100% 14/14 [00:00<00:00, 151.09it/s]\n",
      "[MoviePy] Done.\n",
      "[MoviePy] >>>> Video ready: demo/stdet_demo.mp4 \n",
      "\n"
     ]
    }
   ],
   "source": [
    "!python demo/demo_spatiotemporal_det.py --video demo/noViolence.mp4"
   ]
  },
  {
   "cell_type": "code",
   "execution_count": 49,
   "metadata": {
    "colab": {
     "base_uri": "https://localhost:8080/",
     "height": 246
    },
    "id": "-0atQCzBo9-C",
    "outputId": "d03e6c34-ea7a-40dc-8f23-479933a59e3e"
   },
   "outputs": [
    {
     "data": {
      "text/html": [
       "\n",
       "<video width=400 controls>\n",
       "      <source src=\"data:video/mp4;base64,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\" type=\"video/mp4\">\n",
       "</video>\n"
      ],
      "text/plain": [
       "<IPython.core.display.HTML object>"
      ]
     },
     "execution_count": 49,
     "metadata": {},
     "output_type": "execute_result"
    }
   ],
   "source": [
    "# Check the video\n",
    "from IPython.display import HTML\n",
    "from base64 import b64encode\n",
    "mp4 = open('demo/stdet_demo.mp4','rb').read()\n",
    "data_url = \"data:video/mp4;base64,\" + b64encode(mp4).decode()\n",
    "HTML(\"\"\"\n",
    "<video width=400 controls>\n",
    "      <source src=\"%s\" type=\"video/mp4\">\n",
    "</video>\n",
    "\"\"\" % data_url)"
   ]
  }
 ],
 "metadata": {
  "accelerator": "GPU",
  "colab": {
   "collapsed_sections": [],
   "name": "MMAction2_Tutorial.ipynb",
   "provenance": []
  },
  "kernelspec": {
   "display_name": "Python 3",
   "language": "python",
   "name": "python3"
  },
  "language_info": {
   "codemirror_mode": {
    "name": "ipython",
    "version": 3
   },
   "file_extension": ".py",
   "mimetype": "text/x-python",
   "name": "python",
   "nbconvert_exporter": "python",
   "pygments_lexer": "ipython3",
   "version": "3.8.8"
  },
  "widgets": {
   "application/vnd.jupyter.widget-state+json": {
    "0a0aee9be16d4f04b0bf7a85e4021acd": {
     "model_module": "@jupyter-widgets/base",
     "model_module_version": "1.2.0",
     "model_name": "LayoutModel",
     "state": {
      "_model_module": "@jupyter-widgets/base",
      "_model_module_version": "1.2.0",
      "_model_name": "LayoutModel",
      "_view_count": null,
      "_view_module": "@jupyter-widgets/base",
      "_view_module_version": "1.2.0",
      "_view_name": "LayoutView",
      "align_content": null,
      "align_items": null,
      "align_self": null,
      "border": null,
      "bottom": null,
      "display": null,
      "flex": null,
      "flex_flow": null,
      "grid_area": null,
      "grid_auto_columns": null,
      "grid_auto_flow": null,
      "grid_auto_rows": null,
      "grid_column": null,
      "grid_gap": null,
      "grid_row": null,
      "grid_template_areas": null,
      "grid_template_columns": null,
      "grid_template_rows": null,
      "height": null,
      "justify_content": null,
      "justify_items": null,
      "left": null,
      "margin": null,
      "max_height": null,
      "max_width": null,
      "min_height": null,
      "min_width": null,
      "object_fit": null,
      "object_position": null,
      "order": null,
      "overflow": null,
      "overflow_x": null,
      "overflow_y": null,
      "padding": null,
      "right": null,
      "top": null,
      "visibility": null,
      "width": null
     }
    },
    "4c400150591c4f708131250859dac6d5": {
     "model_module": "@jupyter-widgets/controls",
     "model_module_version": "1.5.0",
     "model_name": "HBoxModel",
     "state": {
      "_dom_classes": [],
      "_model_module": "@jupyter-widgets/controls",
      "_model_module_version": "1.5.0",
      "_model_name": "HBoxModel",
      "_view_count": null,
      "_view_module": "@jupyter-widgets/controls",
      "_view_module_version": "1.5.0",
      "_view_name": "HBoxView",
      "box_style": "",
      "children": [
       "IPY_MODEL_942cb1e6ee9c435fbae03b01ec67dfac",
       "IPY_MODEL_d45c4f2572ce43848347003051177f7b",
       "IPY_MODEL_5db805eed55d4eb68243c8167c8fbcdb"
      ],
      "layout": "IPY_MODEL_e0a8d1771b51440288b565ca57d10a1a"
     }
    },
    "5db805eed55d4eb68243c8167c8fbcdb": {
     "model_module": "@jupyter-widgets/controls",
     "model_module_version": "1.5.0",
     "model_name": "HTMLModel",
     "state": {
      "_dom_classes": [],
      "_model_module": "@jupyter-widgets/controls",
      "_model_module_version": "1.5.0",
      "_model_name": "HTMLModel",
      "_view_count": null,
      "_view_module": "@jupyter-widgets/controls",
      "_view_module_version": "1.5.0",
      "_view_name": "HTMLView",
      "description": "",
      "description_tooltip": null,
      "layout": "IPY_MODEL_0a0aee9be16d4f04b0bf7a85e4021acd",
      "placeholder": "​",
      "style": "IPY_MODEL_e1ab74fab5e44cabb85c8574f0d75dc1",
      "value": " 97.8M/97.8M [00:00&lt;00:00, 175MB/s]"
     }
    },
    "6a8136329940435f9db410d80b5998e2": {
     "model_module": "@jupyter-widgets/controls",
     "model_module_version": "1.5.0",
     "model_name": "DescriptionStyleModel",
     "state": {
      "_model_module": "@jupyter-widgets/controls",
      "_model_module_version": "1.5.0",
      "_model_name": "DescriptionStyleModel",
      "_view_count": null,
      "_view_module": "@jupyter-widgets/base",
      "_view_module_version": "1.2.0",
      "_view_name": "StyleView",
      "description_width": ""
     }
    },
    "942cb1e6ee9c435fbae03b01ec67dfac": {
     "model_module": "@jupyter-widgets/controls",
     "model_module_version": "1.5.0",
     "model_name": "HTMLModel",
     "state": {
      "_dom_classes": [],
      "_model_module": "@jupyter-widgets/controls",
      "_model_module_version": "1.5.0",
      "_model_name": "HTMLModel",
      "_view_count": null,
      "_view_module": "@jupyter-widgets/controls",
      "_view_module_version": "1.5.0",
      "_view_name": "HTMLView",
      "description": "",
      "description_tooltip": null,
      "layout": "IPY_MODEL_f59139e723e14427a069cae8055a2c0f",
      "placeholder": "​",
      "style": "IPY_MODEL_6a8136329940435f9db410d80b5998e2",
      "value": "100%"
     }
    },
    "d45c4f2572ce43848347003051177f7b": {
     "model_module": "@jupyter-widgets/controls",
     "model_module_version": "1.5.0",
     "model_name": "FloatProgressModel",
     "state": {
      "_dom_classes": [],
      "_model_module": "@jupyter-widgets/controls",
      "_model_module_version": "1.5.0",
      "_model_name": "FloatProgressModel",
      "_view_count": null,
      "_view_module": "@jupyter-widgets/controls",
      "_view_module_version": "1.5.0",
      "_view_name": "ProgressView",
      "bar_style": "success",
      "description": "",
      "description_tooltip": null,
      "layout": "IPY_MODEL_ed380c6f5ba64b3ea7cc13faad322f3f",
      "max": 102502400,
      "min": 0,
      "orientation": "horizontal",
      "style": "IPY_MODEL_e46f549fef8443b99dfbdfd6038c4702",
      "value": 102502400
     }
    },
    "e0a8d1771b51440288b565ca57d10a1a": {
     "model_module": "@jupyter-widgets/base",
     "model_module_version": "1.2.0",
     "model_name": "LayoutModel",
     "state": {
      "_model_module": "@jupyter-widgets/base",
      "_model_module_version": "1.2.0",
      "_model_name": "LayoutModel",
      "_view_count": null,
      "_view_module": "@jupyter-widgets/base",
      "_view_module_version": "1.2.0",
      "_view_name": "LayoutView",
      "align_content": null,
      "align_items": null,
      "align_self": null,
      "border": null,
      "bottom": null,
      "display": null,
      "flex": null,
      "flex_flow": null,
      "grid_area": null,
      "grid_auto_columns": null,
      "grid_auto_flow": null,
      "grid_auto_rows": null,
      "grid_column": null,
      "grid_gap": null,
      "grid_row": null,
      "grid_template_areas": null,
      "grid_template_columns": null,
      "grid_template_rows": null,
      "height": null,
      "justify_content": null,
      "justify_items": null,
      "left": null,
      "margin": null,
      "max_height": null,
      "max_width": null,
      "min_height": null,
      "min_width": null,
      "object_fit": null,
      "object_position": null,
      "order": null,
      "overflow": null,
      "overflow_x": null,
      "overflow_y": null,
      "padding": null,
      "right": null,
      "top": null,
      "visibility": null,
      "width": null
     }
    },
    "e1ab74fab5e44cabb85c8574f0d75dc1": {
     "model_module": "@jupyter-widgets/controls",
     "model_module_version": "1.5.0",
     "model_name": "DescriptionStyleModel",
     "state": {
      "_model_module": "@jupyter-widgets/controls",
      "_model_module_version": "1.5.0",
      "_model_name": "DescriptionStyleModel",
      "_view_count": null,
      "_view_module": "@jupyter-widgets/base",
      "_view_module_version": "1.2.0",
      "_view_name": "StyleView",
      "description_width": ""
     }
    },
    "e46f549fef8443b99dfbdfd6038c4702": {
     "model_module": "@jupyter-widgets/controls",
     "model_module_version": "1.5.0",
     "model_name": "ProgressStyleModel",
     "state": {
      "_model_module": "@jupyter-widgets/controls",
      "_model_module_version": "1.5.0",
      "_model_name": "ProgressStyleModel",
      "_view_count": null,
      "_view_module": "@jupyter-widgets/base",
      "_view_module_version": "1.2.0",
      "_view_name": "StyleView",
      "bar_color": null,
      "description_width": ""
     }
    },
    "ed380c6f5ba64b3ea7cc13faad322f3f": {
     "model_module": "@jupyter-widgets/base",
     "model_module_version": "1.2.0",
     "model_name": "LayoutModel",
     "state": {
      "_model_module": "@jupyter-widgets/base",
      "_model_module_version": "1.2.0",
      "_model_name": "LayoutModel",
      "_view_count": null,
      "_view_module": "@jupyter-widgets/base",
      "_view_module_version": "1.2.0",
      "_view_name": "LayoutView",
      "align_content": null,
      "align_items": null,
      "align_self": null,
      "border": null,
      "bottom": null,
      "display": null,
      "flex": null,
      "flex_flow": null,
      "grid_area": null,
      "grid_auto_columns": null,
      "grid_auto_flow": null,
      "grid_auto_rows": null,
      "grid_column": null,
      "grid_gap": null,
      "grid_row": null,
      "grid_template_areas": null,
      "grid_template_columns": null,
      "grid_template_rows": null,
      "height": null,
      "justify_content": null,
      "justify_items": null,
      "left": null,
      "margin": null,
      "max_height": null,
      "max_width": null,
      "min_height": null,
      "min_width": null,
      "object_fit": null,
      "object_position": null,
      "order": null,
      "overflow": null,
      "overflow_x": null,
      "overflow_y": null,
      "padding": null,
      "right": null,
      "top": null,
      "visibility": null,
      "width": null
     }
    },
    "f59139e723e14427a069cae8055a2c0f": {
     "model_module": "@jupyter-widgets/base",
     "model_module_version": "1.2.0",
     "model_name": "LayoutModel",
     "state": {
      "_model_module": "@jupyter-widgets/base",
      "_model_module_version": "1.2.0",
      "_model_name": "LayoutModel",
      "_view_count": null,
      "_view_module": "@jupyter-widgets/base",
      "_view_module_version": "1.2.0",
      "_view_name": "LayoutView",
      "align_content": null,
      "align_items": null,
      "align_self": null,
      "border": null,
      "bottom": null,
      "display": null,
      "flex": null,
      "flex_flow": null,
      "grid_area": null,
      "grid_auto_columns": null,
      "grid_auto_flow": null,
      "grid_auto_rows": null,
      "grid_column": null,
      "grid_gap": null,
      "grid_row": null,
      "grid_template_areas": null,
      "grid_template_columns": null,
      "grid_template_rows": null,
      "height": null,
      "justify_content": null,
      "justify_items": null,
      "left": null,
      "margin": null,
      "max_height": null,
      "max_width": null,
      "min_height": null,
      "min_width": null,
      "object_fit": null,
      "object_position": null,
      "order": null,
      "overflow": null,
      "overflow_x": null,
      "overflow_y": null,
      "padding": null,
      "right": null,
      "top": null,
      "visibility": null,
      "width": null
     }
    }
   }
  }
 },
 "nbformat": 4,
 "nbformat_minor": 1
}
